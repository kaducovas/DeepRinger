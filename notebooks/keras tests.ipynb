{
 "cells": [
  {
   "cell_type": "code",
   "execution_count": 1,
   "metadata": {},
   "outputs": [
    {
     "name": "stderr",
     "output_type": "stream",
     "text": [
      "/usr/lib64/python2.7/site-packages/h5py/__init__.py:36: FutureWarning: Conversion of the second argument of issubdtype from `float` to `np.floating` is deprecated. In future, it will be treated as `np.float64 == np.dtype(float).type`.\n",
      "  from ._conv import register_converters as _register_converters\n",
      "Using TensorFlow backend.\n",
      "/usr/lib64/python2.7/site-packages/sklearn/cross_validation.py:41: DeprecationWarning: This module was deprecated in version 0.18 in favor of the model_selection module into which all the refactored classes and functions are moved. Also note that the interface of the new CV iterators are different from that of this module. This module will be removed in 0.20.\n",
      "  \"This module will be removed in 0.20.\", DeprecationWarning)\n"
     ]
    }
   ],
   "source": [
    "from keras.models import Sequential\n",
    "from keras.layers.core import Dense, Dropout, Activation\n",
    "from keras.optimizers import SGD\n",
    "import keras.callbacks as callbacks\n",
    "from keras.utils import np_utils\n",
    "from keras.layers import Merge\n",
    "\n",
    "from sklearn.externals import joblib\n",
    "\n",
    "from sklearn import cross_validation\n",
    "from sklearn import preprocessing\n",
    "import numpy as np\n",
    "import numpy.linalg as la\n",
    "from keras.models import load_model"
   ]
  },
  {
   "cell_type": "code",
   "execution_count": 16,
   "metadata": {},
   "outputs": [],
   "source": [
    "from keras import backend as K"
   ]
  },
  {
   "cell_type": "code",
   "execution_count": 51,
   "metadata": {},
   "outputs": [],
   "source": [
    "model_load = load_model('/home/caducovas/inits_1_bottleneck_30_mapping_50_epochs_5000_sort_0_etbin_1_etabin_1_model.h5_nlpcas.h5')"
   ]
  },
  {
   "cell_type": "code",
   "execution_count": 22,
   "metadata": {},
   "outputs": [],
   "source": [
    "model_ae = load_model ('/home/caducovas/allcalo-vanilla_1_folds_1_inits_5000_epochs_57582_batch_size_tanh_hidden_activation_linear_output_activation_kullback_leibler_divergence_metric_mean_squared_error_loss_100x40_neurons_sort_9_etbin_2_etabin_0_model.h5')"
   ]
  },
  {
   "cell_type": "code",
   "execution_count": 24,
   "metadata": {},
   "outputs": [
    {
     "name": "stdout",
     "output_type": "stream",
     "text": [
      "0 input Tensor(\"encoded_input:0\", shape=(?, 100), dtype=float32)\n",
      "0 output Tensor(\"encoded/BiasAdd:0\", shape=(?, 40), dtype=float32)\n",
      "1 input Tensor(\"encoded/BiasAdd:0\", shape=(?, 40), dtype=float32)\n",
      "1 output Tensor(\"activation_1_1/Tanh:0\", shape=(?, 40), dtype=float32)\n",
      "2 input Tensor(\"activation_1_1/Tanh:0\", shape=(?, 40), dtype=float32)\n",
      "2 output Tensor(\"dense_1_1/BiasAdd:0\", shape=(?, 100), dtype=float32)\n",
      "3 input Tensor(\"dense_1_1/BiasAdd:0\", shape=(?, 100), dtype=float32)\n",
      "3 output Tensor(\"activation_2_1/Identity:0\", shape=(?, 100), dtype=float32)\n"
     ]
    }
   ],
   "source": [
    "print 0,'input',model_ae.layers[0].input\n",
    "print 0,'output',model_ae.layers[0].output\n",
    "print 1,'input',model_ae.layers[1].input\n",
    "print 1,'output',model_ae.layers[1].output\n",
    "print 2,'input',model_ae.layers[2].input\n",
    "print 2,'output',model_ae.layers[2].output\n",
    "print 3,'input',model_ae.layers[3].input\n",
    "print 3,'output',model_ae.layers[3].output\n"
   ]
  },
  {
   "cell_type": "code",
   "execution_count": 52,
   "metadata": {},
   "outputs": [
    {
     "name": "stdout",
     "output_type": "stream",
     "text": [
      "0 input Tensor(\"dense_1_input_1:0\", shape=(?, 100), dtype=float32)\n",
      "0 output Tensor(\"dense_1_2/BiasAdd:0\", shape=(?, 50), dtype=float32)\n",
      "1 input Tensor(\"dense_1_2/BiasAdd:0\", shape=(?, 50), dtype=float32)\n",
      "1 output Tensor(\"activation_1_2/Tanh:0\", shape=(?, 50), dtype=float32)\n",
      "2 input Tensor(\"activation_1_2/Tanh:0\", shape=(?, 50), dtype=float32)\n",
      "2 output Tensor(\"dense_2_1/BiasAdd:0\", shape=(?, 30), dtype=float32)\n",
      "3 input Tensor(\"dense_2_1/BiasAdd:0\", shape=(?, 30), dtype=float32)\n",
      "3 output Tensor(\"activation_2_2/Tanh:0\", shape=(?, 30), dtype=float32)\n",
      "4 input Tensor(\"activation_2_2/Tanh:0\", shape=(?, 30), dtype=float32)\n",
      "4 output Tensor(\"dense_3_1/BiasAdd:0\", shape=(?, 50), dtype=float32)\n",
      "5 input Tensor(\"dense_3_1/BiasAdd:0\", shape=(?, 50), dtype=float32)\n",
      "5 output Tensor(\"activation_3_1/Tanh:0\", shape=(?, 50), dtype=float32)\n",
      "6 input Tensor(\"activation_3_1/Tanh:0\", shape=(?, 50), dtype=float32)\n",
      "6 output Tensor(\"dense_4_1/BiasAdd:0\", shape=(?, 100), dtype=float32)\n",
      "7 input Tensor(\"dense_4_1/BiasAdd:0\", shape=(?, 100), dtype=float32)\n",
      "7 output Tensor(\"activation_4_1/Identity:0\", shape=(?, 100), dtype=float32)\n"
     ]
    }
   ],
   "source": [
    "print 0,'input',model_load.layers[0].input\n",
    "print 0,'output',model_load.layers[0].output\n",
    "print 1,'input',model_load.layers[1].input\n",
    "print 1,'output',model_load.layers[1].output\n",
    "print 2,'input',model_load.layers[2].input\n",
    "print 2,'output',model_load.layers[2].output\n",
    "print 3,'input',model_load.layers[3].input\n",
    "print 3,'output',model_load.layers[3].output\n",
    "print 4,'input',model_load.layers[4].input\n",
    "print 4,'output',model_load.layers[4].output\n",
    "print 5,'input',model_load.layers[5].input\n",
    "print 5,'output',model_load.layers[5].output\n",
    "print 6,'input',model_load.layers[6].input\n",
    "print 6,'output',model_load.layers[6].output\n",
    "print 7,'input',model_load.layers[7].input\n",
    "print 7,'output',model_load.layers[7].output\n"
   ]
  },
  {
   "cell_type": "code",
   "execution_count": 12,
   "metadata": {},
   "outputs": [
    {
     "data": {
      "text/plain": [
       "8"
      ]
     },
     "execution_count": 12,
     "metadata": {},
     "output_type": "execute_result"
    }
   ],
   "source": [
    "len(model_load.layers)"
   ]
  },
  {
   "cell_type": "code",
   "execution_count": null,
   "metadata": {},
   "outputs": [],
   "source": [
    "[:,anel]"
   ]
  },
  {
   "cell_type": "code",
   "execution_count": 87,
   "metadata": {},
   "outputs": [],
   "source": [
    "get_layer_output = K.function([model_ae.layers[0].input],\n",
    "                              [model_ae.layers[3].output])"
   ]
  },
  {
   "cell_type": "code",
   "execution_count": 62,
   "metadata": {},
   "outputs": [],
   "source": [
    "get_layer_output = K.function([model_load.layers[0].input],\n",
    "                              [model_load.layers[1].output,model_load.layers[2].output,model_load.layers[3].output])"
   ]
  },
  {
   "cell_type": "code",
   "execution_count": 84,
   "metadata": {},
   "outputs": [
    {
     "data": {
      "text/plain": [
       "array([[ 8.6246558e-02,  3.0461302e-02, -2.3969483e-02, ...,\n",
       "        -6.6502288e-04, -6.3681224e-04,  0.0000000e+00],\n",
       "       [ 2.0018242e-02,  1.2558488e-02,  1.1140542e-02, ...,\n",
       "         9.5221412e-04,  3.3835502e-04,  0.0000000e+00],\n",
       "       [ 5.1119834e-02,  2.0307394e-02, -2.2842633e-03, ...,\n",
       "         2.9535209e-05,  6.2658376e-04,  0.0000000e+00],\n",
       "       ...,\n",
       "       [ 1.2191137e-02,  1.5612954e-02,  1.1605547e-03, ...,\n",
       "        -1.4552429e-03,  9.3417628e-05,  0.0000000e+00],\n",
       "       [ 2.4911910e-04,  7.6033962e-03, -7.5358059e-04, ...,\n",
       "         2.0954371e-03, -2.0262259e-03,  0.0000000e+00],\n",
       "       [ 3.9141444e-03,  6.0770577e-03,  1.1480813e-03, ...,\n",
       "         1.1864871e-03, -1.9447743e-04,  0.0000000e+00]], dtype=float32)"
      ]
     },
     "execution_count": 84,
     "metadata": {},
     "output_type": "execute_result"
    }
   ],
   "source": [
    "proj_all_data"
   ]
  },
  {
   "cell_type": "code",
   "execution_count": 88,
   "metadata": {},
   "outputs": [
    {
     "data": {
      "text/plain": [
       "array([[ 8.6168498e-02,  3.0381326e-02, -2.4126058e-02, ...,\n",
       "        -1.6493374e-04, -1.9732455e-04,  4.0537780e-05],\n",
       "       [ 1.9868668e-02,  1.2484133e-02,  1.1025411e-02, ...,\n",
       "         6.6467398e-04,  5.6796637e-04,  6.1985935e-05],\n",
       "       [ 5.1049184e-02,  2.0249281e-02, -2.4292450e-03, ...,\n",
       "         5.4415991e-04,  1.0062673e-04,  5.0010494e-05],\n",
       "       ...,\n",
       "       [ 1.2274963e-02,  1.5469447e-02,  1.1009481e-03, ...,\n",
       "         4.8284396e-04,  4.7142780e-04,  1.4646073e-04],\n",
       "       [ 1.8369686e-04,  7.5602196e-03, -8.9835562e-04, ...,\n",
       "         2.3775664e-04, -9.4736810e-05,  2.4993351e-05],\n",
       "       [ 3.9553754e-03,  6.0266536e-03,  1.0974053e-03, ...,\n",
       "         4.7805137e-04,  2.2516970e-04,  2.3778266e-06]], dtype=float32)"
      ]
     },
     "execution_count": 88,
     "metadata": {},
     "output_type": "execute_result"
    }
   ],
   "source": [
    "get_layer_output([proj_all_data])[0]"
   ]
  },
  {
   "cell_type": "code",
   "execution_count": 82,
   "metadata": {},
   "outputs": [
    {
     "data": {
      "text/plain": [
       "([array([0.0000e+00, 0.0000e+00, 0.0000e+00, 0.0000e+00, 1.0000e+00,\n",
       "         1.8107e+05, 2.4434e+04, 1.0000e+00, 0.0000e+00, 0.0000e+00]),\n",
       "  array([0.00000e+00, 0.00000e+00, 0.00000e+00, 0.00000e+00, 2.00000e+00,\n",
       "         7.41390e+04, 1.31294e+05, 7.00000e+01, 0.00000e+00, 1.00000e+00]),\n",
       "  array([0.00000e+00, 0.00000e+00, 0.00000e+00, 0.00000e+00, 0.00000e+00,\n",
       "         1.22000e+02, 2.01489e+05, 3.89500e+03, 0.00000e+00, 0.00000e+00]),\n",
       "  array([0.00000e+00, 0.00000e+00, 0.00000e+00, 0.00000e+00, 1.00000e+00,\n",
       "         6.25580e+04, 1.42785e+05, 1.62000e+02, 0.00000e+00, 0.00000e+00]),\n",
       "  array([0.00000e+00, 0.00000e+00, 0.00000e+00, 0.00000e+00, 0.00000e+00,\n",
       "         4.70000e+01, 2.05272e+05, 1.87000e+02, 0.00000e+00, 0.00000e+00]),\n",
       "  array([0.00000e+00, 0.00000e+00, 0.00000e+00, 0.00000e+00, 1.50000e+01,\n",
       "         1.29725e+05, 7.57650e+04, 0.00000e+00, 0.00000e+00, 1.00000e+00]),\n",
       "  array([0.00000e+00, 0.00000e+00, 0.00000e+00, 0.00000e+00, 0.00000e+00,\n",
       "         6.22800e+03, 1.87564e+05, 1.17130e+04, 0.00000e+00, 1.00000e+00]),\n",
       "  array([0.00000e+00, 0.00000e+00, 0.00000e+00, 0.00000e+00, 4.00000e+00,\n",
       "         1.45081e+05, 6.04180e+04, 2.00000e+00, 1.00000e+00, 0.00000e+00]),\n",
       "  array([1.00000e+00, 0.00000e+00, 0.00000e+00, 8.00000e+00, 3.08180e+04,\n",
       "         1.62269e+05, 1.23950e+04, 1.50000e+01, 0.00000e+00, 0.00000e+00]),\n",
       "  array([0.00000e+00, 0.00000e+00, 0.00000e+00, 7.00000e+00, 9.88040e+04,\n",
       "         1.06694e+05, 0.00000e+00, 0.00000e+00, 1.00000e+00, 0.00000e+00]),\n",
       "  array([0.00000e+00, 0.00000e+00, 1.00000e+00, 0.00000e+00, 3.20000e+01,\n",
       "         1.96615e+05, 8.85800e+03, 0.00000e+00, 0.00000e+00, 0.00000e+00]),\n",
       "  array([0.00000e+00, 0.00000e+00, 0.00000e+00, 0.00000e+00, 0.00000e+00,\n",
       "         1.65720e+04, 1.88897e+05, 3.70000e+01, 0.00000e+00, 0.00000e+00]),\n",
       "  array([     0.,      0.,      0.,      0.,      0.,    155.,  88996.,\n",
       "         115673.,    682.,      0.]),\n",
       "  array([0.00000e+00, 0.00000e+00, 1.00000e+00, 4.10000e+02, 4.51870e+04,\n",
       "         1.59165e+05, 7.43000e+02, 0.00000e+00, 0.00000e+00, 0.00000e+00]),\n",
       "  array([0.00000e+00, 0.00000e+00, 0.00000e+00, 5.00000e+00, 2.62780e+04,\n",
       "         1.79215e+05, 8.00000e+00, 0.00000e+00, 0.00000e+00, 0.00000e+00]),\n",
       "  array([0.00000e+00, 0.00000e+00, 0.00000e+00, 1.00000e+00, 0.00000e+00,\n",
       "         1.10261e+05, 9.52150e+04, 2.90000e+01, 0.00000e+00, 0.00000e+00]),\n",
       "  array([0.00000e+00, 0.00000e+00, 0.00000e+00, 0.00000e+00, 4.90000e+01,\n",
       "         5.99650e+04, 1.45491e+05, 1.00000e+00, 0.00000e+00, 0.00000e+00]),\n",
       "  array([0.00000e+00, 0.00000e+00, 1.00000e+00, 0.00000e+00, 2.32600e+03,\n",
       "         2.00323e+05, 2.85400e+03, 2.00000e+00, 0.00000e+00, 0.00000e+00]),\n",
       "  array([0.00000e+00, 0.00000e+00, 0.00000e+00, 2.00000e+00, 2.46860e+04,\n",
       "         1.80539e+05, 2.79000e+02, 0.00000e+00, 0.00000e+00, 0.00000e+00]),\n",
       "  array([     0.,      0.,      0.,      0.,    208., 108690.,  96421.,\n",
       "            187.,      0.,      0.]),\n",
       "  array([0.00000e+00, 0.00000e+00, 0.00000e+00, 0.00000e+00, 0.00000e+00,\n",
       "         1.97930e+04, 1.85655e+05, 5.70000e+01, 1.00000e+00, 0.00000e+00]),\n",
       "  array([0.00000e+00, 0.00000e+00, 0.00000e+00, 0.00000e+00, 1.20000e+01,\n",
       "         2.52250e+04, 1.79408e+05, 8.59000e+02, 2.00000e+00, 0.00000e+00]),\n",
       "  array([0.00000e+00, 0.00000e+00, 0.00000e+00, 0.00000e+00, 0.00000e+00,\n",
       "         5.20000e+02, 1.75666e+05, 2.93010e+04, 1.80000e+01, 1.00000e+00]),\n",
       "  array([0.00000e+00, 0.00000e+00, 0.00000e+00, 0.00000e+00, 0.00000e+00,\n",
       "         6.70000e+01, 1.92362e+05, 1.30770e+04, 0.00000e+00, 0.00000e+00]),\n",
       "  array([0.00000e+00, 0.00000e+00, 0.00000e+00, 2.00000e+00, 2.13000e+02,\n",
       "         1.46872e+05, 5.84160e+04, 3.00000e+00, 0.00000e+00, 0.00000e+00]),\n",
       "  array([     0.,      0.,      0.,      0.,   4133., 198394.,   2979.,\n",
       "              0.,      0.,      0.]),\n",
       "  array([0.00000e+00, 0.00000e+00, 0.00000e+00, 1.00000e+00, 0.00000e+00,\n",
       "         1.53988e+05, 5.15130e+04, 4.00000e+00, 0.00000e+00, 0.00000e+00]),\n",
       "  array([0.00000e+00, 0.00000e+00, 0.00000e+00, 0.00000e+00, 1.59524e+05,\n",
       "         4.59620e+04, 2.00000e+01, 0.00000e+00, 0.00000e+00, 0.00000e+00]),\n",
       "  array([0.00000e+00, 0.00000e+00, 0.00000e+00, 0.00000e+00, 1.85100e+03,\n",
       "         1.96702e+05, 6.95100e+03, 2.00000e+00, 0.00000e+00, 0.00000e+00]),\n",
       "  array([0.00000e+00, 2.00000e+00, 0.00000e+00, 1.25000e+02, 2.14850e+04,\n",
       "         1.68944e+05, 1.46790e+04, 2.71000e+02, 0.00000e+00, 0.00000e+00])],\n",
       " array([-0.02758391, -0.02302658, -0.01846926, -0.01391193, -0.00935461,\n",
       "        -0.00479728, -0.00023996,  0.00431737,  0.0088747 ,  0.01343202,\n",
       "         0.01798935]),\n",
       " <a list of 30 Lists of Patches objects>)"
      ]
     },
     "execution_count": 82,
     "metadata": {},
     "output_type": "execute_result"
    },
    {
     "data": {
      "image/png": "[encoded data removed]",
      "text/plain": [
       "<Figure size 432x288 with 1 Axes>"
      ]
     },
     "metadata": {},
     "output_type": "display_data"
    }
   ],
   "source": [
    "from matplotlib import pyplot as plt\n",
    "plt.hist(get_layer_output([proj_all_data])[2])"
   ]
  },
  {
   "cell_type": "code",
   "execution_count": 71,
   "metadata": {},
   "outputs": [
    {
     "data": {
      "text/plain": [
       "array([[-0.00032217, -0.00038801,  0.00163483, ..., -0.00592482,\n",
       "        -0.00155577, -0.00286361],\n",
       "       [-0.00047864, -0.00049388,  0.00210201, ..., -0.00560389,\n",
       "        -0.00168896, -0.00267735],\n",
       "       [-0.00100447, -0.00041391,  0.00142281, ..., -0.0055435 ,\n",
       "        -0.00072477, -0.00300918],\n",
       "       ...,\n",
       "       [-0.00023584,  0.00149087,  0.00234314, ..., -0.00528316,\n",
       "        -0.00313877, -0.00363219],\n",
       "       [ 0.00113948,  0.00122012,  0.00209995, ..., -0.00486411,\n",
       "        -0.00135179, -0.00468838],\n",
       "       [-0.00035715, -0.00146708,  0.00090361, ..., -0.00513678,\n",
       "        -0.0003285 , -0.00332044]], dtype=float32)"
      ]
     },
     "execution_count": 71,
     "metadata": {},
     "output_type": "execute_result"
    }
   ],
   "source": []
  },
  {
   "cell_type": "code",
   "execution_count": 70,
   "metadata": {},
   "outputs": [
    {
     "data": {
      "text/plain": [
       "False"
      ]
     },
     "execution_count": 70,
     "metadata": {},
     "output_type": "execute_result"
    }
   ],
   "source": [
    "np.array_equal(get_layer_output([proj_all_data])[1], get_layer_output([proj_all_data])[2])"
   ]
  },
  {
   "cell_type": "code",
   "execution_count": 59,
   "metadata": {},
   "outputs": [
    {
     "data": {
      "text/plain": [
       "array([[-0.00032217, -0.00038801,  0.00163483, ..., -0.00592482,\n",
       "        -0.00155577, -0.00286361],\n",
       "       [-0.00047864, -0.00049388,  0.00210201, ..., -0.00560389,\n",
       "        -0.00168896, -0.00267735],\n",
       "       [-0.00100447, -0.00041391,  0.00142281, ..., -0.0055435 ,\n",
       "        -0.00072477, -0.00300918],\n",
       "       ...,\n",
       "       [-0.00023584,  0.00149087,  0.00234314, ..., -0.00528316,\n",
       "        -0.00313877, -0.00363219],\n",
       "       [ 0.00113948,  0.00122012,  0.00209995, ..., -0.00486411,\n",
       "        -0.00135179, -0.00468838],\n",
       "       [-0.00035715, -0.00146708,  0.00090361, ..., -0.00513678,\n",
       "        -0.0003285 , -0.00332044]], dtype=float32)"
      ]
     },
     "execution_count": 59,
     "metadata": {},
     "output_type": "execute_result"
    }
   ],
   "source": [
    "get_layer_output([proj_all_data])[0]"
   ]
  },
  {
   "cell_type": "code",
   "execution_count": 19,
   "metadata": {},
   "outputs": [
    {
     "ename": "AttributeError",
     "evalue": "'Function' object has no attribute 'summary'",
     "output_type": "error",
     "traceback": [
      "\u001b[0;31m---------------------------------------------------------------------------\u001b[0m",
      "\u001b[0;31mAttributeError\u001b[0m                            Traceback (most recent call last)",
      "\u001b[0;32m<ipython-input-19-9c6be9543591>\u001b[0m in \u001b[0;36m<module>\u001b[0;34m()\u001b[0m\n\u001b[0;32m----> 1\u001b[0;31m \u001b[0mget_layer_output\u001b[0m\u001b[0;34m.\u001b[0m\u001b[0msummary\u001b[0m\u001b[0;34m(\u001b[0m\u001b[0;34m)\u001b[0m\u001b[0;34m\u001b[0m\u001b[0m\n\u001b[0m",
      "\u001b[0;31mAttributeError\u001b[0m: 'Function' object has no attribute 'summary'"
     ]
    }
   ],
   "source": [
    "data_proj_nlpca = get_layer_output([proj_all_data])[0]"
   ]
  },
  {
   "cell_type": "code",
   "execution_count": 25,
   "metadata": {},
   "outputs": [],
   "source": [
    "a=[(1,4),(2,4),(9,5),(1,1),(1,4),(1,1),(1,1)]"
   ]
  },
  {
   "cell_type": "code",
   "execution_count": 26,
   "metadata": {},
   "outputs": [],
   "source": [
    "def order(x,y):\n",
    "    return int(x[1]) - int(y[1])"
   ]
  },
  {
   "cell_type": "code",
   "execution_count": 27,
   "metadata": {},
   "outputs": [
    {
     "data": {
      "text/plain": [
       "[(1, 1), (2, 4), (1, 4), (9, 5)]"
      ]
     },
     "execution_count": 27,
     "metadata": {},
     "output_type": "execute_result"
    }
   ],
   "source": [
    "sorted(list(set(a)), cmp=order)"
   ]
  },
  {
   "cell_type": "code",
   "execution_count": 28,
   "metadata": {},
   "outputs": [],
   "source": [
    "a='allcalo-vanilla-signal_1_folds_1_inits_5000_epochs_83711_batch_size_tanh_hidden_activation_linear_output_activation_kullback_leibler_divergence_metric_mean_squared_error_loss_50x30_neurons_sort_2_etbin_1_etabin_1_layers_1_model.h5'"
   ]
  },
  {
   "cell_type": "code",
   "execution_count": 29,
   "metadata": {},
   "outputs": [
    {
     "data": {
      "text/plain": [
       "'allcalo-vanilla-signal_1_folds_1_inits_5000_epochs_83711_batch_size_tanh_hidden_activation_linear_output_activation_kullback_leibler_divergence_metric_mean_squared_error_loss_50x30_neurons_sort_2_etbin_1_etabin_1_layers_1_model.h5'"
      ]
     },
     "execution_count": 29,
     "metadata": {},
     "output_type": "execute_result"
    }
   ],
   "source": [
    "a"
   ]
  },
  {
   "cell_type": "code",
   "execution_count": 30,
   "metadata": {},
   "outputs": [],
   "source": [
    "content=['allcalo-vanilla-signal_1_folds_1_inits_5000_epochs_83711_batch_size_tanh_hidden_activation_linear_output_activation_kullback_leibler_divergence_metric_mean_squared_error_loss_50x30_neurons_sort_2_etbin_1_etabin_1_layers_1_model.h5','allcalo-vanilla-signal_1_folds_1_inits_5000_epochs_83711_batch_size_tanh_hidden_activation_linear_output_activation_kullback_leibler_divergence_metric_mean_squared_error_loss_50x30_neurons_sort_2_etbin_1_etabin_1_layers_2_model.h5']"
   ]
  },
  {
   "cell_type": "code",
   "execution_count": 31,
   "metadata": {},
   "outputs": [
    {
     "data": {
      "text/plain": [
       "['allcalo-vanilla-signal_1_folds_1_inits_5000_epochs_83711_batch_size_tanh_hidden_activation_linear_output_activation_kullback_leibler_divergence_metric_mean_squared_error_loss_50x30_neurons_sort_2_etbin_1_etabin_1_layers_1_model.h5',\n",
       " 'allcalo-vanilla-signal_1_folds_1_inits_5000_epochs_83711_batch_size_tanh_hidden_activation_linear_output_activation_kullback_leibler_divergence_metric_mean_squared_error_loss_50x30_neurons_sort_2_etbin_1_etabin_1_layers_2_model.h5']"
      ]
     },
     "execution_count": 31,
     "metadata": {},
     "output_type": "execute_result"
    }
   ],
   "source": [
    "content\n"
   ]
  },
  {
   "cell_type": "code",
   "execution_count": 34,
   "metadata": {},
   "outputs": [],
   "source": [
    "layers_list = [(f.split('/')[-1].split('_')[24],f.split('/')[-1].split('_')[33]) for f in content]"
   ]
  },
  {
   "cell_type": "code",
   "execution_count": 35,
   "metadata": {},
   "outputs": [],
   "source": [
    "def layer2number2(x,y):\n",
    "    return int(x[1]) - int(y[1])"
   ]
  },
  {
   "cell_type": "code",
   "execution_count": 41,
   "metadata": {},
   "outputs": [],
   "source": [
    "layers,layers_numbers=[x for x,y in sorted(list(set(layers_list)),cmp=layer2number2)],[y for x,y in sorted(list(set(layers_list)),cmp=layer2number2)]"
   ]
  },
  {
   "cell_type": "code",
   "execution_count": 42,
   "metadata": {},
   "outputs": [
    {
     "data": {
      "text/plain": [
       "(['50x30', '50x30'], ['1', '2'])"
      ]
     },
     "execution_count": 42,
     "metadata": {},
     "output_type": "execute_result"
    }
   ],
   "source": [
    "layers,layers_numbers"
   ]
  },
  {
   "cell_type": "code",
   "execution_count": 43,
   "metadata": {},
   "outputs": [],
   "source": [
    "loaded = np.load('/home/caducovas/pdfs.npz')"
   ]
  },
  {
   "cell_type": "code",
   "execution_count": null,
   "metadata": {},
   "outputs": [],
   "source": [
    "'/home/caducovas/inits_1_bottleneck_30_mapping_50_epochs_5000_sort_0_etbin_1_etabin_1_model.h5_nlpcas.h5'"
   ]
  },
  {
   "cell_type": "code",
   "execution_count": 46,
   "metadata": {},
   "outputs": [],
   "source": [
    "loaded = np.load('/home/caducovas/Train_sort0et_1_eta_1.npz')\n"
   ]
  },
  {
   "cell_type": "code",
   "execution_count": 54,
   "metadata": {},
   "outputs": [],
   "source": [
    "proj_all_data = loaded['arr_0']"
   ]
  },
  {
   "cell_type": "code",
   "execution_count": null,
   "metadata": {},
   "outputs": [],
   "source": []
  }
 ],
 "metadata": {
  "kernelspec": {
   "display_name": "Python 2",
   "language": "python",
   "name": "python2"
  },
  "language_info": {
   "codemirror_mode": {
    "name": "ipython",
    "version": 2
   },
   "file_extension": ".py",
   "mimetype": "text/x-python",
   "name": "python",
   "nbconvert_exporter": "python",
   "pygments_lexer": "ipython2",
   "version": "2.7.5"
  }
 },
 "nbformat": 4,
 "nbformat_minor": 2
}
