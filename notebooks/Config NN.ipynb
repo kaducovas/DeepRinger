{
 "cells": [
  {
   "cell_type": "code",
   "execution_count": 46,
   "metadata": {},
   "outputs": [],
   "source": [
    "import os\n",
    "import re\n",
    "import seaborn as sb\n",
    "import cPickle\n",
    "import pickle"
   ]
  },
  {
   "cell_type": "code",
   "execution_count": 2,
   "metadata": {},
   "outputs": [
    {
     "name": "stderr",
     "output_type": "stream",
     "text": [
      "/home/caducovas/RingerProject/root/RootCoreBin/python/TuningTools/CreateData.py:11: UserWarning: \n",
      "This call to matplotlib.use() has no effect because the backend has already\n",
      "been chosen; matplotlib.use() must be called *before* pylab, matplotlib.pyplot,\n",
      "or matplotlib.backends is imported for the first time.\n",
      "\n",
      "The backend was *originally* set to 'module://ipykernel.pylab.backend_inline' by the following code:\n",
      "  File \"/usr/lib64/python2.7/runpy.py\", line 162, in _run_module_as_main\n",
      "    \"__main__\", fname, loader, pkg_name)\n",
      "  File \"/usr/lib64/python2.7/runpy.py\", line 72, in _run_code\n",
      "    exec code in run_globals\n",
      "  File \"/usr/lib/python2.7/site-packages/ipykernel_launcher.py\", line 16, in <module>\n",
      "    app.launch_new_instance()\n",
      "  File \"/usr/lib/python2.7/site-packages/traitlets/config/application.py\", line 658, in launch_instance\n",
      "    app.start()\n",
      "  File \"/usr/lib/python2.7/site-packages/ipykernel/kernelapp.py\", line 478, in start\n",
      "    self.io_loop.start()\n",
      "  File \"/usr/lib64/python2.7/site-packages/zmq/eventloop/ioloop.py\", line 177, in start\n",
      "    super(ZMQIOLoop, self).start()\n",
      "  File \"/usr/lib64/python2.7/site-packages/tornado/ioloop.py\", line 888, in start\n",
      "    handler_func(fd_obj, events)\n",
      "  File \"/usr/lib64/python2.7/site-packages/tornado/stack_context.py\", line 277, in null_wrapper\n",
      "    return fn(*args, **kwargs)\n",
      "  File \"/usr/lib64/python2.7/site-packages/zmq/eventloop/zmqstream.py\", line 440, in _handle_events\n",
      "    self._handle_recv()\n",
      "  File \"/usr/lib64/python2.7/site-packages/zmq/eventloop/zmqstream.py\", line 472, in _handle_recv\n",
      "    self._run_callback(callback, msg)\n",
      "  File \"/usr/lib64/python2.7/site-packages/zmq/eventloop/zmqstream.py\", line 414, in _run_callback\n",
      "    callback(*args, **kwargs)\n",
      "  File \"/usr/lib64/python2.7/site-packages/tornado/stack_context.py\", line 277, in null_wrapper\n",
      "    return fn(*args, **kwargs)\n",
      "  File \"/usr/lib/python2.7/site-packages/ipykernel/kernelbase.py\", line 281, in dispatcher\n",
      "    return self.dispatch_shell(stream, msg)\n",
      "  File \"/usr/lib/python2.7/site-packages/ipykernel/kernelbase.py\", line 232, in dispatch_shell\n",
      "    handler(stream, idents, msg)\n",
      "  File \"/usr/lib/python2.7/site-packages/ipykernel/kernelbase.py\", line 397, in execute_request\n",
      "    user_expressions, allow_stdin)\n",
      "  File \"/usr/lib/python2.7/site-packages/ipykernel/ipkernel.py\", line 208, in do_execute\n",
      "    res = shell.run_cell(code, store_history=store_history, silent=silent)\n",
      "  File \"/usr/lib/python2.7/site-packages/ipykernel/zmqshell.py\", line 533, in run_cell\n",
      "    return super(ZMQInteractiveShell, self).run_cell(*args, **kwargs)\n",
      "  File \"/usr/lib/python2.7/site-packages/IPython/core/interactiveshell.py\", line 2728, in run_cell\n",
      "    self.events.trigger('post_run_cell')\n",
      "  File \"/usr/lib/python2.7/site-packages/IPython/core/events.py\", line 74, in trigger\n",
      "    func(*args, **kwargs)\n",
      "  File \"/usr/lib/python2.7/site-packages/ipykernel/pylab/backend_inline.py\", line 160, in configure_once\n",
      "    activate_matplotlib(backend)\n",
      "  File \"/usr/lib/python2.7/site-packages/IPython/core/pylabtools.py\", line 309, in activate_matplotlib\n",
      "    matplotlib.pyplot.switch_backend(backend)\n",
      "  File \"/usr/lib64/python2.7/site-packages/matplotlib/pyplot.py\", line 232, in switch_backend\n",
      "    matplotlib.use(newbackend, warn=False, force=True)\n",
      "  File \"/usr/lib64/python2.7/site-packages/matplotlib/__init__.py\", line 1305, in use\n",
      "    reload(sys.modules['matplotlib.backends'])\n",
      "  File \"/usr/lib64/python2.7/site-packages/matplotlib/backends/__init__.py\", line 14, in <module>\n",
      "    line for line in traceback.format_stack()\n",
      "\n",
      "\n",
      "  mpl.use('Agg')\n",
      "/cvmfs/atlas.cern.ch/repo/ATLASLocalRootBase/x86_64/root/6.04.16-x86_64-slc6-gcc49-opt/lib/ROOT.py:301: FutureWarning: Conversion of the second argument of issubdtype from `float` to `np.floating` is deprecated. In future, it will be treated as `np.float64 == np.dtype(float).type`.\n",
      "  return _orig_ihook( name, *args, **kwds )\n",
      "Using TensorFlow backend.\n"
     ]
    },
    {
     "name": "stdout",
     "output_type": "stream",
     "text": [
      "PreProc 2.1.2\n"
     ]
    }
   ],
   "source": [
    "import TuningTools"
   ]
  },
  {
   "cell_type": "code",
   "execution_count": 3,
   "metadata": {},
   "outputs": [],
   "source": [
    "#import tensorflow\n",
    "import pandas as pd\n",
    "import numpy\n",
    "import numpy as np\n",
    "import matplotlib.pylab as plt\n",
    "%matplotlib inline\n",
    "from matplotlib.pylab import rcParams\n",
    "rcParams['figure.figsize'] = 12,4.8\n",
    "import math\n",
    "from sklearn.preprocessing import MinMaxScaler\n",
    "#15, 6\n",
    "import matplotlib.pyplot as plt\n",
    "import time\n",
    "#import statsmodels\n",
    "#from statsmodels.tsa.stattools import adfuller\n",
    "#import statsmodels.api as sm\n",
    "import scipy\n",
    "from sklearn.externals import joblib\n",
    "from sklearn import preprocessing\n",
    "from sklearn import metrics"
   ]
  },
  {
   "cell_type": "code",
   "execution_count": 4,
   "metadata": {},
   "outputs": [],
   "source": [
    "import keras\n",
    "from keras.models import Sequential\n",
    "from keras.regularizers import l1, l2\n",
    "from keras.layers.core import Dense, Activation, Dropout\n",
    "from keras.optimizers import Adam, SGD\n",
    "import keras.callbacks as callbacks\n",
    "from keras.utils import np_utils\n",
    "from keras.models import load_model\n",
    "from keras import backend as K"
   ]
  },
  {
   "cell_type": "code",
   "execution_count": 42,
   "metadata": {},
   "outputs": [
    {
     "data": {
      "text/plain": [
       "array([-3.83233943e-04, -1.99980987e-03, -1.18337477e-04,  1.71637721e-03,\n",
       "        1.44802709e-03,  2.07401859e-03,  3.29632079e-04,  1.90456660e-04,\n",
       "        1.21950579e-03, -1.26785086e-03, -5.54678380e-04,  4.06362233e-04,\n",
       "       -4.37770010e-04, -1.43302395e-03,  6.38022146e-04,  4.42715478e-04,\n",
       "       -9.14655247e-05, -1.60341477e-03,  1.87454236e-04, -1.38089425e-04,\n",
       "       -4.35813854e-04,  1.97889138e-04,  1.02133745e-04, -3.90333385e-04,\n",
       "        1.19916827e-03,  2.92905024e-05,  6.11585623e-04, -2.14408938e-04,\n",
       "       -4.78118222e-04, -1.34061126e-03, -3.66277003e-04,  1.29132008e-03,\n",
       "       -5.42770606e-04, -5.22964634e-04,  1.33187312e-03, -9.70152440e-04,\n",
       "       -2.23658717e-04,  3.91473266e-04,  9.60014295e-04, -5.62107773e-04,\n",
       "       -9.60921869e-04, -8.46098119e-04, -1.56214563e-04,  1.00053253e-03,\n",
       "       -3.31777730e-04, -7.37414462e-04, -5.55663544e-04,  1.06037609e-04,\n",
       "        4.22256271e-04, -1.12197781e-03,  5.25725947e-04,  9.16198769e-05,\n",
       "        7.91022845e-04, -5.43549482e-04,  7.63463497e-04,  5.35389525e-04,\n",
       "       -6.99952361e-04,  1.10320332e-04, -1.20961042e-04, -9.36586643e-04,\n",
       "        2.10723345e-04,  2.07247701e-03,  4.45418846e-04,  4.82424337e-04,\n",
       "       -3.50931747e-04,  8.10813101e-04,  1.34944462e-03,  3.63720233e-06,\n",
       "        6.25481189e-05,  7.08872685e-04,  5.33702725e-04,  1.28519780e-03,\n",
       "       -7.77836249e-04,  4.74065630e-04, -2.34058680e-04, -1.96197606e-03,\n",
       "       -3.48821108e-04], dtype=float32)"
      ]
     },
     "execution_count": 42,
     "metadata": {},
     "output_type": "execute_result"
    }
   ],
   "source": [
    "a['tunedPP']['items'][0]['items'][1]['_weights'][1]"
   ]
  },
  {
   "cell_type": "code",
   "execution_count": 43,
   "metadata": {},
   "outputs": [
    {
     "name": "stdout",
     "output_type": "stream",
     "text": [
      "tunedDiscr.pp-N1-AE_77.hn0010.s0003.il0000.iu0099.et0002.eta0000.pic\n"
     ]
    }
   ],
   "source": [
    "dirin='/home/caducovas/DeepRinger/data/'\n",
    "files = [f for f in os.listdir(dirin) if (f.endswith( ('.pic') ) and f.split('.')[1].split('_')[1] == '77')]\n",
    "print files[0]\n",
    "\n",
    "file = 'tunedDiscr.pp-N1-AE_85-AE_70-AE_55-AE_40-AE_25.hn0010.s0008.il0000.iu0099.et0002.eta0000.pic'\n",
    "\n",
    "f = open(dirin+file,'r')\n",
    "a = pickle.load(f)\n",
    "f.close()\n",
    "\n",
    "for i in range(len(a['tunedPP']['items'][0]['items'])-1):\n",
    "\n",
    "        config = len(a['tunedPP']['items'][0]['items'][1]['_trn_params']\n",
    "weights = a['tunedPP']['items'][0]['items'][1]['_weights']\n",
    "model = Sequential.from_config(config)\n",
    "model.set_weights(weights)\n",
    "#for file in files:\n",
    "    #print file\n",
    "    #f = open(dirin+file,'r')\n",
    "    #a = pickle.load(f)\n",
    "    #f.close()\n",
    "    #a['tunedPP']['items'][0]['items'][0]"
   ]
  },
  {
   "cell_type": "code",
   "execution_count": 49,
   "metadata": {},
   "outputs": [
    {
     "data": {
      "text/plain": [
       "6"
      ]
     },
     "execution_count": 49,
     "metadata": {},
     "output_type": "execute_result"
    }
   ],
   "source": [
    "file = 'tunedDiscr.pp-N1-AE_85-AE_70-AE_55-AE_40-AE_25.hn0010.s0008.il0000.iu0099.et0002.eta0000.pic'\n",
    "\n",
    "f = open(dirin+file,'r')\n",
    "a = pickle.load(f)\n",
    "f.close()\n",
    "len(a['tunedPP']['items'][0]['items'])"
   ]
  },
  {
   "cell_type": "code",
   "execution_count": 44,
   "metadata": {},
   "outputs": [
    {
     "name": "stdout",
     "output_type": "stream",
     "text": [
      "_________________________________________________________________\n",
      "Layer (type)                 Output Shape              Param #   \n",
      "=================================================================\n",
      "dense_1 (Dense)              (None, 77)                7777      \n",
      "_________________________________________________________________\n",
      "activation_1 (Activation)    (None, 77)                0         \n",
      "_________________________________________________________________\n",
      "dense_2 (Dense)              (None, 100)               7800      \n",
      "_________________________________________________________________\n",
      "activation_2 (Activation)    (None, 100)               0         \n",
      "=================================================================\n",
      "Total params: 15,577\n",
      "Trainable params: 15,577\n",
      "Non-trainable params: 0\n",
      "_________________________________________________________________\n"
     ]
    }
   ],
   "source": [
    "model.summary()"
   ]
  },
  {
   "cell_type": "code",
   "execution_count": 47,
   "metadata": {},
   "outputs": [
    {
     "data": {
      "text/plain": [
       "[{'class_name': 'Dense',\n",
       "  'config': {'activation': 'linear',\n",
       "   'activity_regularizer': None,\n",
       "   'batch_input_shape': (None, 100),\n",
       "   'bias_constraint': None,\n",
       "   'bias_initializer': {'class_name': 'Zeros', 'config': {}},\n",
       "   'bias_regularizer': None,\n",
       "   'dtype': 'float32',\n",
       "   'kernel_constraint': None,\n",
       "   'kernel_initializer': {'class_name': 'VarianceScaling',\n",
       "    'config': {'distribution': 'uniform',\n",
       "     'mode': 'fan_avg',\n",
       "     'scale': 1.0,\n",
       "     'seed': None}},\n",
       "   'kernel_regularizer': None,\n",
       "   'name': 'dense_1',\n",
       "   'trainable': True,\n",
       "   'units': 77,\n",
       "   'use_bias': True}},\n",
       " {'class_name': 'Activation',\n",
       "  'config': {'activation': 'tanh', 'name': 'activation_1', 'trainable': True}},\n",
       " {'class_name': 'Dense',\n",
       "  'config': {'activation': 'linear',\n",
       "   'activity_regularizer': None,\n",
       "   'bias_constraint': None,\n",
       "   'bias_initializer': {'class_name': 'Zeros', 'config': {}},\n",
       "   'bias_regularizer': None,\n",
       "   'kernel_constraint': None,\n",
       "   'kernel_initializer': {'class_name': 'VarianceScaling',\n",
       "    'config': {'distribution': 'uniform',\n",
       "     'mode': 'fan_avg',\n",
       "     'scale': 1.0,\n",
       "     'seed': None}},\n",
       "   'kernel_regularizer': None,\n",
       "   'name': 'dense_2',\n",
       "   'trainable': True,\n",
       "   'units': 100,\n",
       "   'use_bias': True}},\n",
       " {'class_name': 'Activation',\n",
       "  'config': {'activation': 'linear',\n",
       "   'name': 'activation_2',\n",
       "   'trainable': True}}]"
      ]
     },
     "execution_count": 47,
     "metadata": {},
     "output_type": "execute_result"
    }
   ],
   "source": [
    "config"
   ]
  },
  {
   "cell_type": "code",
   "execution_count": 45,
   "metadata": {},
   "outputs": [
    {
     "name": "stdout",
     "output_type": "stream",
     "text": [
      "_________________________________________________________________\n",
      "Layer (type)                 Output Shape              Param #   \n",
      "=================================================================\n",
      "dense_1 (Dense)              (None, 77)                7777      \n",
      "_________________________________________________________________\n",
      "activation_1 (Activation)    (None, 77)                0         \n",
      "=================================================================\n",
      "Total params: 7,777\n",
      "Trainable params: 7,777\n",
      "Non-trainable params: 0\n",
      "_________________________________________________________________\n"
     ]
    }
   ],
   "source": [
    "model.layers.pop()\n",
    "model.layers.pop()\n",
    "model.summary()"
   ]
  },
  {
   "cell_type": "code",
   "execution_count": 41,
   "metadata": {},
   "outputs": [
    {
     "data": {
      "text/plain": [
       "array([-3.83233943e-04, -1.99980987e-03, -1.18337477e-04,  1.71637721e-03,\n",
       "        1.44802709e-03,  2.07401859e-03,  3.29632079e-04,  1.90456660e-04,\n",
       "        1.21950579e-03, -1.26785086e-03, -5.54678380e-04,  4.06362233e-04,\n",
       "       -4.37770010e-04, -1.43302395e-03,  6.38022146e-04,  4.42715478e-04,\n",
       "       -9.14655247e-05, -1.60341477e-03,  1.87454236e-04, -1.38089425e-04,\n",
       "       -4.35813854e-04,  1.97889138e-04,  1.02133745e-04, -3.90333385e-04,\n",
       "        1.19916827e-03,  2.92905024e-05,  6.11585623e-04, -2.14408938e-04,\n",
       "       -4.78118222e-04, -1.34061126e-03, -3.66277003e-04,  1.29132008e-03,\n",
       "       -5.42770606e-04, -5.22964634e-04,  1.33187312e-03, -9.70152440e-04,\n",
       "       -2.23658717e-04,  3.91473266e-04,  9.60014295e-04, -5.62107773e-04,\n",
       "       -9.60921869e-04, -8.46098119e-04, -1.56214563e-04,  1.00053253e-03,\n",
       "       -3.31777730e-04, -7.37414462e-04, -5.55663544e-04,  1.06037609e-04,\n",
       "        4.22256271e-04, -1.12197781e-03,  5.25725947e-04,  9.16198769e-05,\n",
       "        7.91022845e-04, -5.43549482e-04,  7.63463497e-04,  5.35389525e-04,\n",
       "       -6.99952361e-04,  1.10320332e-04, -1.20961042e-04, -9.36586643e-04,\n",
       "        2.10723345e-04,  2.07247701e-03,  4.45418846e-04,  4.82424337e-04,\n",
       "       -3.50931747e-04,  8.10813101e-04,  1.34944462e-03,  3.63720233e-06,\n",
       "        6.25481189e-05,  7.08872685e-04,  5.33702725e-04,  1.28519780e-03,\n",
       "       -7.77836249e-04,  4.74065630e-04, -2.34058680e-04, -1.96197606e-03,\n",
       "       -3.48821108e-04], dtype=float32)"
      ]
     },
     "execution_count": 41,
     "metadata": {},
     "output_type": "execute_result"
    }
   ],
   "source": [
    "model.get_weights()[1]"
   ]
  },
  {
   "cell_type": "code",
   "execution_count": null,
   "metadata": {},
   "outputs": [],
   "source": []
  }
 ],
 "metadata": {
  "kernelspec": {
   "display_name": "Python 2",
   "language": "python",
   "name": "python2"
  },
  "language_info": {
   "codemirror_mode": {
    "name": "ipython",
    "version": 2
   },
   "file_extension": ".py",
   "mimetype": "text/x-python",
   "name": "python",
   "nbconvert_exporter": "python",
   "pygments_lexer": "ipython2",
   "version": "2.7.5"
  }
 },
 "nbformat": 4,
 "nbformat_minor": 2
}
