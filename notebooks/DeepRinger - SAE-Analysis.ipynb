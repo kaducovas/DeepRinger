{
 "cells": [
  {
   "cell_type": "code",
   "execution_count": 2,
   "metadata": {},
   "outputs": [],
   "source": [
    "import os\n",
    "import re\n",
    "import seaborn as sb\n",
    "import cPickle\n"
   ]
  },
  {
   "cell_type": "code",
   "execution_count": 1,
   "metadata": {},
   "outputs": [
    {
     "name": "stderr",
     "output_type": "stream",
     "text": [
      "/cvmfs/atlas.cern.ch/repo/ATLASLocalRootBase/x86_64/root/6.04.16-x86_64-slc6-gcc49-opt/lib/ROOT.py:301: FutureWarning: Conversion of the second argument of issubdtype from `float` to `np.floating` is deprecated. In future, it will be treated as `np.float64 == np.dtype(float).type`.\n",
      "  return _orig_ihook( name, *args, **kwds )\n",
      "Using TensorFlow backend.\n"
     ]
    },
    {
     "name": "stdout",
     "output_type": "stream",
     "text": [
      "PreProc 2.1.2\n"
     ]
    }
   ],
   "source": [
    "import TuningTools"
   ]
  },
  {
   "cell_type": "code",
   "execution_count": 3,
   "metadata": {},
   "outputs": [],
   "source": [
    "#import tensorflow\n",
    "import pandas as pd\n",
    "import numpy\n",
    "import numpy as np\n",
    "import matplotlib.pylab as plt\n",
    "%matplotlib inline\n",
    "from matplotlib.pylab import rcParams\n",
    "rcParams['figure.figsize'] = 12,4.8\n",
    "import math\n",
    "from sklearn.preprocessing import MinMaxScaler\n",
    "#15, 6\n",
    "import matplotlib.pyplot as plt\n",
    "import time\n",
    "#import statsmodels\n",
    "#from statsmodels.tsa.stattools import adfuller\n",
    "#import statsmodels.api as sm\n",
    "import scipy\n",
    "from sklearn.externals import joblib\n",
    "from sklearn import preprocessing\n",
    "from sklearn import metrics"
   ]
  },
  {
   "cell_type": "code",
   "execution_count": 4,
   "metadata": {},
   "outputs": [],
   "source": [
    "import keras\n",
    "from keras.models import Sequential\n",
    "from keras.regularizers import l1, l2\n",
    "from keras.layers.core import Dense, Activation, Dropout\n",
    "from keras.optimizers import Adam, SGD\n",
    "import keras.callbacks as callbacks\n",
    "from keras.utils import np_utils\n",
    "from keras.models import load_model\n",
    "from keras import backend as K"
   ]
  },
  {
   "cell_type": "code",
   "execution_count": 5,
   "metadata": {},
   "outputs": [],
   "source": [
    "dirout = '/home/webadmin/plots/'"
   ]
  },
  {
   "cell_type": "code",
   "execution_count": 6,
   "metadata": {},
   "outputs": [],
   "source": [
    "dirin = '/home/caducovas/DeepRinger/data/run_layer1/'\n",
    "data10 = np.load(dirin+\"val_Data_sort_6_hidden_neurons_10.npy\")\n",
    "data20 = np.load(dirin+\"val_Data_sort_6_hidden_neurons_20.npy\")\n",
    "data30 = np.load(dirin+\"val_Data_sort_3_hidden_neurons_30.npy\")\n",
    "data40 = np.load(dirin+\"val_Data_sort_9_hidden_neurons_40.npy\")\n",
    "data50 = np.load(dirin+\"val_Data_sort_9_hidden_neurons_50.npy\")\n",
    "data60 = np.load(dirin+\"val_Data_sort_9_hidden_neurons_60.npy\")\n",
    "data70 = np.load(dirin+\"val_Data_sort_9_hidden_neurons_70.npy\")\n",
    "data80 = np.load(dirin+\"val_Data_sort_9_hidden_neurons_80.npy\")\n",
    "data85 = np.load(dirin+\"val_Data_sort_9_hidden_neurons_85.npy\")\n",
    "data90 = np.load(dirin+\"val_Data_sort_9_hidden_neurons_90.npy\")\n",
    "data95 = np.load(dirin+\"val_Data_sort_9_hidden_neurons_95.npy\")\n",
    "data100 = np.load(dirin+\"val_Data_sort_9_hidden_neurons_100.npy\")\n",
    "\n"
   ]
  },
  {
   "cell_type": "code",
   "execution_count": 7,
   "metadata": {},
   "outputs": [],
   "source": [
    "dirin = '/home/caducovas/DeepRinger/data/'\n",
    "data77 = np.load(dirin+\"val_Data_sort_6_hidden_neurons_77.npy\")\n",
    "data87 = np.load(dirin+\"val_Data_sort_6_hidden_neurons_87.npy\")"
   ]
  },
  {
   "cell_type": "code",
   "execution_count": 36,
   "metadata": {},
   "outputs": [
    {
     "name": "stdout",
     "output_type": "stream",
     "text": [
      "True\n"
     ]
    }
   ],
   "source": [
    "print np.array_equal(data0,val_Data) #,np.array_equal(data40,data10) #,np.array_equal(data10,data40),np.array_equal(data10,data50),np.array_equal(data10,data60),np.array_equal(data10,data70),np.array_equal(data10,data80)"
   ]
  },
  {
   "cell_type": "code",
   "execution_count": 48,
   "metadata": {},
   "outputs": [
    {
     "name": "stdout",
     "output_type": "stream",
     "text": [
      "True False True True True True True\n"
     ]
    }
   ],
   "source": [
    "print np.array_equal(data10,data20),np.array_equal(data10,data30),np.array_equal(data10,data40),np.array_equal(data10,data50),np.array_equal(data10,data60),np.array_equal(data10,data70),np.array_equal(data10,data80)"
   ]
  },
  {
   "cell_type": "code",
   "execution_count": 39,
   "metadata": {},
   "outputs": [
    {
     "name": "stdout",
     "output_type": "stream",
     "text": [
      "0.031096699\n",
      "0.031096699\n",
      "0.031096699\n",
      "0.031096699\n",
      "0.031096699\n",
      "0.031096699\n",
      "0.031096699\n",
      "80 0.031096699\n",
      "0.031096699\n",
      "0.031096699\n",
      "0.031096699\n",
      "0.031096699\n"
     ]
    }
   ],
   "source": [
    "print data10[1000][10]\n",
    "print data20[1000][10]\n",
    "print data30[1000][10]\n",
    "print data40[1000][10]\n",
    "print data50[1000][10]\n",
    "print data60[1000][10]\n",
    "print data70[1000][10]\n",
    "print \"80\",data80[1000][10]\n",
    "print data85[1000][10]\n",
    "print data90[1000][10]\n",
    "print data95[1000][10]\n",
    "print data100[1000][10]"
   ]
  },
  {
   "cell_type": "code",
   "execution_count": 9,
   "metadata": {},
   "outputs": [],
   "source": [
    "data0 = np.load(dirin+\"val_Data_sort_0_hidden_neurons_77.npy\")\n",
    "data1 = np.load(dirin+\"val_Data_sort_1_hidden_neurons_77.npy\")\n",
    "data2 = np.load(dirin+\"val_Data_sort_2_hidden_neurons_77.npy\")\n",
    "data3 = np.load(dirin+\"val_Data_sort_3_hidden_neurons_77.npy\")\n",
    "data4 = np.load(dirin+\"val_Data_sort_4_hidden_neurons_77.npy\")\n",
    "data5 = np.load(dirin+\"val_Data_sort_5_hidden_neurons_77.npy\")\n",
    "data6 = np.load(dirin+\"val_Data_sort_6_hidden_neurons_77.npy\")\n",
    "data7 = np.load(dirin+\"val_Data_sort_7_hidden_neurons_77.npy\")\n",
    "data8 = np.load(dirin+\"val_Data_sort_8_hidden_neurons_77.npy\")\n",
    "data9 = np.load(dirin+\"val_Data_sort_9_hidden_neurons_77.npy\")\n"
   ]
  },
  {
   "cell_type": "code",
   "execution_count": 10,
   "metadata": {},
   "outputs": [],
   "source": [
    "#import TuningTools"
   ]
  },
  {
   "cell_type": "code",
   "execution_count": 48,
   "metadata": {},
   "outputs": [],
   "source": [
    "import pickle\n",
    "f = open(dirin+\"/tunedDiscr.pp-N1-AE_87.hn0010.s0003.il0000.iu0099.et0002.eta0000.pic\",'r')\n",
    "#f = open(dirin+\"/run_layer1/tunedDiscr.pp-N1-AE_80.hn0010.s0005.il0000.iu0099.et0002.eta0000.pic\",'r')\n",
    "\n",
    "a = pickle.load(f)\n",
    "f.close()\n",
    "#g = open(\"/home/caducovas/DeepRinger/data/tunedDiscr.pp-N1-AE_82.hn0010.s0004.il0000.iu0099.et0002.eta0000.pic\",'r')\n",
    "#b = cPickle.load(g)\n",
    "#g.close()"
   ]
  },
  {
   "cell_type": "code",
   "execution_count": 49,
   "metadata": {},
   "outputs": [
    {
     "data": {
      "text/plain": [
       "['_normslist',\n",
       " '_afternorm',\n",
       " '_beforenorm',\n",
       " '__module',\n",
       " '__version',\n",
       " 'class',\n",
       " '_cnvObj']"
      ]
     },
     "execution_count": 49,
     "metadata": {},
     "output_type": "execute_result"
    }
   ],
   "source": [
    "a['tunedPP']['items'][0]['items'][0].keys()#['__module']\n",
    "#a['tunedPP']['items'][0]['items'][0].keys()#['__module']"
   ]
  },
  {
   "cell_type": "code",
   "execution_count": 56,
   "metadata": {},
   "outputs": [],
   "source": [
    "data = a['tunedPP']['items'][0]['items'][0]['_beforenorm']#[0].shape"
   ]
  },
  {
   "cell_type": "code",
   "execution_count": 51,
   "metadata": {},
   "outputs": [],
   "source": [
    "if isinstance(data, (tuple, list,)):\n",
    "    val_Data87 = np.concatenate( data, axis=0 )"
   ]
  },
  {
   "cell_type": "code",
   "execution_count": 55,
   "metadata": {},
   "outputs": [
    {
     "data": {
      "text/plain": [
       "array([ 2.81438325e-02,  1.24885384e-02,  5.69908600e-03, -1.92011299e-03,\n",
       "        3.00663663e-03,  1.56732032e-03,  7.97093194e-03,  7.66454905e-04,\n",
       "        6.29167855e-02,  8.15523565e-02,  1.78601835e-02,  9.87293664e-03,\n",
       "        5.33610303e-03,  2.77138758e-03,  2.16359156e-03,  5.84393973e-03,\n",
       "        3.48809175e-03,  1.56666001e-03,  1.14187449e-02,  1.57181243e-03,\n",
       "        3.11990990e-03,  1.48079905e-03,  1.14357891e-03,  1.55238993e-03,\n",
       "        1.57076190e-03,  4.36174637e-03,  2.25236639e-03,  5.87028859e-04,\n",
       "        2.05350079e-04,  7.20018428e-03,  4.04438935e-04, -2.78165098e-04,\n",
       "       -1.24221877e-03, -1.51886707e-04, -2.24336618e-04,  1.00598938e-03,\n",
       "        3.76525917e-04, -1.78811583e-03, -1.16866454e-03, -1.46703282e-03,\n",
       "       -1.09939591e-03,  8.34733073e-05, -1.29380520e-03,  2.64924695e-03,\n",
       "        1.86607125e-03,  5.63346839e-04, -4.01120982e-04, -9.73962015e-04,\n",
       "        1.27712439e-03, -1.12306629e-03, -1.93344458e-04,  3.38012818e-04,\n",
       "       -1.94457956e-04,  2.80724664e-04, -1.19607756e-03,  2.12364853e-03,\n",
       "        4.74800542e-03,  2.46909494e-03,  7.44336238e-03,  1.81712385e-03,\n",
       "        2.72426312e-03,  2.61478079e-03,  2.15421338e-03,  2.10696971e-03,\n",
       "       -2.54024891e-03,  8.96346872e-04, -6.33519085e-04,  1.02697313e-03,\n",
       "       -1.08356809e-03,  6.51313341e-04, -4.89444006e-04,  2.22728457e-04,\n",
       "        2.75403142e-01,  2.80121267e-01,  4.25405912e-02,  7.93155283e-03,\n",
       "        4.07410935e-02,  1.73402391e-02,  3.05069541e-03,  1.34925265e-02,\n",
       "        1.88075670e-03,  1.82139361e-03,  3.62798176e-03,  2.96272594e-03,\n",
       "       -1.93600461e-03, -9.43078601e-04,  2.29356973e-03, -1.77988317e-03,\n",
       "        1.51889469e-03,  4.05260362e-03, -4.89968667e-03,  0.00000000e+00,\n",
       "       -7.39103067e-04,  1.43092650e-03,  6.80852900e-05,  0.00000000e+00,\n",
       "       -5.22688613e-04,  4.51617001e-04,  2.30023143e-04,  0.00000000e+00],\n",
       "      dtype=float32)"
      ]
     },
     "execution_count": 55,
     "metadata": {},
     "output_type": "execute_result"
    }
   ],
   "source": [
    "val_Data77[23]"
   ]
  },
  {
   "cell_type": "code",
   "execution_count": 54,
   "metadata": {},
   "outputs": [
    {
     "data": {
      "text/plain": [
       "array([ 2.81438325e-02,  1.24885384e-02,  5.69908600e-03, -1.92011299e-03,\n",
       "        3.00663663e-03,  1.56732032e-03,  7.97093194e-03,  7.66454905e-04,\n",
       "        6.29167855e-02,  8.15523565e-02,  1.78601835e-02,  9.87293664e-03,\n",
       "        5.33610303e-03,  2.77138758e-03,  2.16359156e-03,  5.84393973e-03,\n",
       "        3.48809175e-03,  1.56666001e-03,  1.14187449e-02,  1.57181243e-03,\n",
       "        3.11990990e-03,  1.48079905e-03,  1.14357891e-03,  1.55238993e-03,\n",
       "        1.57076190e-03,  4.36174637e-03,  2.25236639e-03,  5.87028859e-04,\n",
       "        2.05350079e-04,  7.20018428e-03,  4.04438935e-04, -2.78165098e-04,\n",
       "       -1.24221877e-03, -1.51886707e-04, -2.24336618e-04,  1.00598938e-03,\n",
       "        3.76525917e-04, -1.78811583e-03, -1.16866454e-03, -1.46703282e-03,\n",
       "       -1.09939591e-03,  8.34733073e-05, -1.29380520e-03,  2.64924695e-03,\n",
       "        1.86607125e-03,  5.63346839e-04, -4.01120982e-04, -9.73962015e-04,\n",
       "        1.27712439e-03, -1.12306629e-03, -1.93344458e-04,  3.38012818e-04,\n",
       "       -1.94457956e-04,  2.80724664e-04, -1.19607756e-03,  2.12364853e-03,\n",
       "        4.74800542e-03,  2.46909494e-03,  7.44336238e-03,  1.81712385e-03,\n",
       "        2.72426312e-03,  2.61478079e-03,  2.15421338e-03,  2.10696971e-03,\n",
       "       -2.54024891e-03,  8.96346872e-04, -6.33519085e-04,  1.02697313e-03,\n",
       "       -1.08356809e-03,  6.51313341e-04, -4.89444006e-04,  2.22728457e-04,\n",
       "        2.75403142e-01,  2.80121267e-01,  4.25405912e-02,  7.93155283e-03,\n",
       "        4.07410935e-02,  1.73402391e-02,  3.05069541e-03,  1.34925265e-02,\n",
       "        1.88075670e-03,  1.82139361e-03,  3.62798176e-03,  2.96272594e-03,\n",
       "       -1.93600461e-03, -9.43078601e-04,  2.29356973e-03, -1.77988317e-03,\n",
       "        1.51889469e-03,  4.05260362e-03, -4.89968667e-03,  0.00000000e+00,\n",
       "       -7.39103067e-04,  1.43092650e-03,  6.80852900e-05,  0.00000000e+00,\n",
       "       -5.22688613e-04,  4.51617001e-04,  2.30023143e-04,  0.00000000e+00],\n",
       "      dtype=float32)"
      ]
     },
     "execution_count": 54,
     "metadata": {},
     "output_type": "execute_result"
    }
   ],
   "source": [
    "val_Data87[23]"
   ]
  },
  {
   "cell_type": "code",
   "execution_count": null,
   "metadata": {},
   "outputs": [],
   "source": []
  },
  {
   "cell_type": "code",
   "execution_count": null,
   "metadata": {},
   "outputs": [],
   "source": []
  },
  {
   "cell_type": "code",
   "execution_count": null,
   "metadata": {},
   "outputs": [],
   "source": []
  },
  {
   "cell_type": "code",
   "execution_count": null,
   "metadata": {},
   "outputs": [],
   "source": []
  },
  {
   "cell_type": "code",
   "execution_count": null,
   "metadata": {},
   "outputs": [],
   "source": []
  },
  {
   "cell_type": "code",
   "execution_count": null,
   "metadata": {},
   "outputs": [],
   "source": []
  },
  {
   "cell_type": "code",
   "execution_count": null,
   "metadata": {},
   "outputs": [],
   "source": []
  },
  {
   "cell_type": "code",
   "execution_count": 38,
   "metadata": {},
   "outputs": [],
   "source": [
    "import numpy as np\n",
    "from sklearn.neighbors import KernelDensity\n",
    "\n",
    "# Estimating PDF\n",
    "def EstPDF(data, bins=np.array([-1,0, 1]), mode='hist', kernel='epanechnikov', kernel_bw=0.01, verbose=False):\n",
    "    # kernels = 'epanechnikov','gaussian', 'tophat','exponential', 'linear', 'cosine'\n",
    "    if mode == 'hist':\n",
    "        if verbose:\n",
    "            print 'EstPDF: Histogram Mode'\n",
    "        [y,pts] = np.histogram(data,bins=100,density=True)\n",
    "        bins_centers = pts[0:-1]+np.diff(pts)\n",
    "        pdf = y*np.diff(pts)\n",
    "        return [pdf,bins_centers]\n",
    "    if mode == 'kernel':\n",
    "        if verbose:\n",
    "            print 'EstPDF: Kernel Mode'\n",
    "        if kernel is None:\n",
    "            if verbose:\n",
    "                print 'No kernel defined'\n",
    "            return -1\n",
    "        if kernel_bw is None:\n",
    "            if verbose:\n",
    "                print 'No kernel bandwidth defined'\n",
    "            return -1\n",
    "        kde = (KernelDensity(kernel=kernel,algorithm='auto',bandwidth=kernel_bw).fit(data))\n",
    "        aux_bins = bins\n",
    "        log_dens_x = (kde.score_samples(aux_bins[:, np.newaxis]))\n",
    "        pdf = np.exp(log_dens_x)\n",
    "        pdf = pdf/sum(pdf)\n",
    "        bins_centers = bins\n",
    "        return [pdf,bins_centers]\n",
    "\n",
    "# Computing KL Divergence\n",
    "def KLDiv(p, q, bins=np.array([-1,0, 1]), mode='hist', kernel='epanechnikov', kernel_bw=0.1, verbose=False):\n",
    "    [p_pdf,p_bins] = EstPDF(p, bins=bins, mode=mode, kernel=kernel, kernel_bw=kernel_bw, verbose=verbose)\n",
    "    [q_pdf,q_bins] = EstPDF(q, bins=bins, mode=mode, kernel=kernel, kernel_bw=kernel_bw, verbose=verbose)\n",
    "    #print len(p_pdf),len(q_pdf)\n",
    "    kl_values = []\n",
    "    for i in range(len(p_pdf)):\n",
    "        if p_pdf[i] == 0 or q_pdf[i] == 0 :\n",
    "            kl_values = np.append(kl_values,0)\n",
    "        else:\n",
    "            kl_value = np.abs(p_pdf[i]*np.log10(p_pdf[i]/q_pdf[i]))\n",
    "            if np.isnan(kl_value):\n",
    "                kl_values = np.append(kl_values,0)\n",
    "            else:\n",
    "                kl_values = np.append(kl_values,kl_value)\n",
    "    return [np.sum(kl_values),kl_values]\n",
    "\n",
    "# Computing KL Divergence\n",
    "def KLDiv_conj(p, q, bins=np.array([-1,0, 1]), mode='hist', kernel='epanechnikov', kernel_bw=0.1, verbose=False):\n",
    "    p_pdf_conj=1\n",
    "    q_pdf_conj=1\n",
    "    for i_anel in range(100): \n",
    "        [ppdf,p_bins] = EstPDF(p[i_anel], bins=bins, mode=mode, kernel=kernel, kernel_bw=kernel_bw, verbose=verbose)\n",
    "        [qpdf,q_bins] = EstPDF(q[i_anel], bins=bins, mode=mode, kernel=kernel, kernel_bw=kernel_bw, verbose=verbose)\n",
    "    \n",
    "        p_pdf_conj = p_pdf_conj*ppdf\n",
    "        q_pdf_conj = q_pdf_conj*qpdf\n",
    "    \n",
    "    p_pdf=p_pdf_conj\n",
    "    q_pdf=q_pdf_conj\n",
    "    \n",
    "    #print len(p_pdf),len(q_pdf)\n",
    "    kl_values = []\n",
    "    for i in range(len(p_pdf)):\n",
    "        if p_pdf[i] == 0 or q_pdf[i] == 0 :\n",
    "            kl_values = np.append(kl_values,0)\n",
    "        else:\n",
    "            kl_value = np.abs(p_pdf[i]*np.log10(p_pdf[i]/q_pdf[i]))\n",
    "            if np.isnan(kl_value):\n",
    "                kl_values = np.append(kl_values,0)\n",
    "            else:\n",
    "                kl_values = np.append(kl_values,kl_value)\n",
    "    return [np.sum(kl_values),kl_values]"
   ]
  },
  {
   "cell_type": "code",
   "execution_count": 39,
   "metadata": {},
   "outputs": [
    {
     "name": "stdout",
     "output_type": "stream",
     "text": [
      "0.0\n"
     ]
    }
   ],
   "source": [
    "pdf,bins = KLDiv(data0.T,val_Data.T)\n",
    "print pdf"
   ]
  },
  {
   "cell_type": "code",
   "execution_count": 31,
   "metadata": {},
   "outputs": [
    {
     "name": "stdout",
     "output_type": "stream",
     "text": [
      "(339519, 100)\n",
      "(339519, 100)\n",
      "(339521, 100)\n",
      "(339519, 100)\n"
     ]
    }
   ],
   "source": [
    "print data77.shape\n",
    "print data87.shape\n",
    "print data40.shape\n",
    "print data10.shape"
   ]
  },
  {
   "cell_type": "code",
   "execution_count": 29,
   "metadata": {},
   "outputs": [
    {
     "data": {
      "text/plain": [
       "0.6241268774152477"
      ]
     },
     "execution_count": 29,
     "metadata": {},
     "output_type": "execute_result"
    }
   ],
   "source": [
    "pdf"
   ]
  },
  {
   "cell_type": "code",
   "execution_count": null,
   "metadata": {},
   "outputs": [],
   "source": [
    "pdf,bins = EstPDF(val_data.T[84], verbose=True)"
   ]
  }
 ],
 "metadata": {
  "kernelspec": {
   "display_name": "Python 2",
   "language": "python",
   "name": "python2"
  },
  "language_info": {
   "codemirror_mode": {
    "name": "ipython",
    "version": 2
   },
   "file_extension": ".py",
   "mimetype": "text/x-python",
   "name": "python",
   "nbconvert_exporter": "python",
   "pygments_lexer": "ipython2",
   "version": "2.7.5"
  }
 },
 "nbformat": 4,
 "nbformat_minor": 2
}
