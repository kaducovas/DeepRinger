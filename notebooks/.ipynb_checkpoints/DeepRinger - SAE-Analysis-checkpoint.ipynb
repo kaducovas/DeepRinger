{
 "cells": [
  {
   "cell_type": "code",
   "execution_count": 2,
   "metadata": {},
   "outputs": [],
   "source": [
    "import os\n",
    "import re\n",
    "import seaborn as sb\n",
    "import cPickle\n"
   ]
  },
  {
   "cell_type": "code",
   "execution_count": 1,
   "metadata": {},
   "outputs": [
    {
     "name": "stderr",
     "output_type": "stream",
     "text": [
      "/cvmfs/atlas.cern.ch/repo/ATLASLocalRootBase/x86_64/root/6.04.16-x86_64-slc6-gcc49-opt/lib/ROOT.py:301: FutureWarning: Conversion of the second argument of issubdtype from `float` to `np.floating` is deprecated. In future, it will be treated as `np.float64 == np.dtype(float).type`.\n",
      "  return _orig_ihook( name, *args, **kwds )\n",
      "Using TensorFlow backend.\n"
     ]
    },
    {
     "name": "stdout",
     "output_type": "stream",
     "text": [
      "PreProc 2.1.2\n"
     ]
    }
   ],
   "source": [
    "import TuningTools"
   ]
  },
  {
   "cell_type": "code",
   "execution_count": 190,
   "metadata": {},
   "outputs": [
    {
     "data": {
      "text/plain": [
       "<module 'matplotlib.pyplot' from '/usr/lib64/python2.7/site-packages/matplotlib/pyplot.pyc'>"
      ]
     },
     "execution_count": 190,
     "metadata": {},
     "output_type": "execute_result"
    }
   ],
   "source": [
    "reload(plt)"
   ]
  },
  {
   "cell_type": "code",
   "execution_count": 3,
   "metadata": {},
   "outputs": [],
   "source": [
    "#import tensorflow\n",
    "import pandas as pd\n",
    "import numpy\n",
    "import numpy as np\n",
    "import matplotlib.pylab as plt\n",
    "%matplotlib inline\n",
    "from matplotlib.pylab import rcParams\n",
    "rcParams['figure.figsize'] = 12,4.8\n",
    "import math\n",
    "from sklearn.preprocessing import MinMaxScaler\n",
    "#15, 6\n",
    "import matplotlib.pyplot as plt\n",
    "import time\n",
    "#import statsmodels\n",
    "#from statsmodels.tsa.stattools import adfuller\n",
    "#import statsmodels.api as sm\n",
    "import scipy\n",
    "from sklearn.externals import joblib\n",
    "from sklearn import preprocessing\n",
    "from sklearn import metrics"
   ]
  },
  {
   "cell_type": "code",
   "execution_count": 4,
   "metadata": {},
   "outputs": [],
   "source": [
    "import keras\n",
    "from keras.models import Sequential\n",
    "from keras.regularizers import l1, l2\n",
    "from keras.layers.core import Dense, Activation, Dropout\n",
    "from keras.optimizers import Adam, SGD\n",
    "import keras.callbacks as callbacks\n",
    "from keras.utils import np_utils\n",
    "from keras.models import load_model\n",
    "from keras import backend as K"
   ]
  },
  {
   "cell_type": "code",
   "execution_count": 80,
   "metadata": {},
   "outputs": [],
   "source": [
    "dirout = '/home/caducovas/DeepRinger/results/plots'"
   ]
  },
  {
   "cell_type": "code",
   "execution_count": 6,
   "metadata": {},
   "outputs": [],
   "source": [
    "dirin = '/home/caducovas/DeepRinger/data/run_layer1/'\n",
    "data10 = np.load(dirin+\"val_Data_sort_6_hidden_neurons_10.npy\")\n",
    "data20 = np.load(dirin+\"val_Data_sort_6_hidden_neurons_20.npy\")\n",
    "data30 = np.load(dirin+\"val_Data_sort_3_hidden_neurons_30.npy\")\n",
    "data40 = np.load(dirin+\"val_Data_sort_9_hidden_neurons_40.npy\")\n",
    "data50 = np.load(dirin+\"val_Data_sort_9_hidden_neurons_50.npy\")\n",
    "data60 = np.load(dirin+\"val_Data_sort_9_hidden_neurons_60.npy\")\n",
    "data70 = np.load(dirin+\"val_Data_sort_9_hidden_neurons_70.npy\")\n",
    "data80 = np.load(dirin+\"val_Data_sort_9_hidden_neurons_80.npy\")\n",
    "data85 = np.load(dirin+\"val_Data_sort_9_hidden_neurons_85.npy\")\n",
    "data90 = np.load(dirin+\"val_Data_sort_9_hidden_neurons_90.npy\")\n",
    "data95 = np.load(dirin+\"val_Data_sort_9_hidden_neurons_95.npy\")\n",
    "data100 = np.load(dirin+\"val_Data_sort_9_hidden_neurons_100.npy\")\n",
    "\n"
   ]
  },
  {
   "cell_type": "code",
   "execution_count": 7,
   "metadata": {},
   "outputs": [],
   "source": [
    "dirin = '/home/caducovas/DeepRinger/data/'\n",
    "data77 = np.load(dirin+\"val_Data_sort_6_hidden_neurons_77.npy\")\n",
    "data87 = np.load(dirin+\"val_Data_sort_6_hidden_neurons_87.npy\")"
   ]
  },
  {
   "cell_type": "code",
   "execution_count": 36,
   "metadata": {},
   "outputs": [
    {
     "name": "stdout",
     "output_type": "stream",
     "text": [
      "True\n"
     ]
    }
   ],
   "source": [
    "print np.array_equal(data0,val_Data) #,np.array_equal(data40,data10) #,np.array_equal(data10,data40),np.array_equal(data10,data50),np.array_equal(data10,data60),np.array_equal(data10,data70),np.array_equal(data10,data80)"
   ]
  },
  {
   "cell_type": "code",
   "execution_count": 48,
   "metadata": {},
   "outputs": [
    {
     "name": "stdout",
     "output_type": "stream",
     "text": [
      "True False True True True True True\n"
     ]
    }
   ],
   "source": [
    "print np.array_equal(data10,data20),np.array_equal(data10,data30),np.array_equal(data10,data40),np.array_equal(data10,data50),np.array_equal(data10,data60),np.array_equal(data10,data70),np.array_equal(data10,data80)"
   ]
  },
  {
   "cell_type": "code",
   "execution_count": 39,
   "metadata": {},
   "outputs": [
    {
     "name": "stdout",
     "output_type": "stream",
     "text": [
      "0.031096699\n",
      "0.031096699\n",
      "0.031096699\n",
      "0.031096699\n",
      "0.031096699\n",
      "0.031096699\n",
      "0.031096699\n",
      "80 0.031096699\n",
      "0.031096699\n",
      "0.031096699\n",
      "0.031096699\n",
      "0.031096699\n"
     ]
    }
   ],
   "source": [
    "print data10[1000][10]\n",
    "print data20[1000][10]\n",
    "print data30[1000][10]\n",
    "print data40[1000][10]\n",
    "print data50[1000][10]\n",
    "print data60[1000][10]\n",
    "print data70[1000][10]\n",
    "print \"80\",data80[1000][10]\n",
    "print data85[1000][10]\n",
    "print data90[1000][10]\n",
    "print data95[1000][10]\n",
    "print data100[1000][10]"
   ]
  },
  {
   "cell_type": "code",
   "execution_count": 9,
   "metadata": {},
   "outputs": [],
   "source": [
    "data0 = np.load(dirin+\"val_Data_sort_0_hidden_neurons_77.npy\")\n",
    "data1 = np.load(dirin+\"val_Data_sort_1_hidden_neurons_77.npy\")\n",
    "data2 = np.load(dirin+\"val_Data_sort_2_hidden_neurons_77.npy\")\n",
    "data3 = np.load(dirin+\"val_Data_sort_3_hidden_neurons_77.npy\")\n",
    "data4 = np.load(dirin+\"val_Data_sort_4_hidden_neurons_77.npy\")\n",
    "data5 = np.load(dirin+\"val_Data_sort_5_hidden_neurons_77.npy\")\n",
    "data6 = np.load(dirin+\"val_Data_sort_6_hidden_neurons_77.npy\")\n",
    "data7 = np.load(dirin+\"val_Data_sort_7_hidden_neurons_77.npy\")\n",
    "data8 = np.load(dirin+\"val_Data_sort_8_hidden_neurons_77.npy\")\n",
    "data9 = np.load(dirin+\"val_Data_sort_9_hidden_neurons_77.npy\")\n"
   ]
  },
  {
   "cell_type": "code",
   "execution_count": 10,
   "metadata": {},
   "outputs": [],
   "source": [
    "#import TuningTools"
   ]
  },
  {
   "cell_type": "code",
   "execution_count": 205,
   "metadata": {},
   "outputs": [],
   "source": [
    "import pickle\n",
    "f = open(dirin+\"/tunedDiscr.pp-N1-AE_77.hn0010.s0003.il0000.iu0099.et0002.eta0000.pic\",'r')\n",
    "#f = open(dirin+\"/run_layer1/tunedDiscr.pp-N1-AE_80.hn0010.s0005.il0000.iu0099.et0002.eta0000.pic\",'r')\n",
    "\n",
    "a = pickle.load(f)\n",
    "f.close()\n",
    "#g = open(\"/home/caducovas/DeepRinger/data/tunedDiscr.pp-N1-AE_82.hn0010.s0004.il0000.iu0099.et0002.eta0000.pic\",'r')\n",
    "#b = cPickle.load(g)\n",
    "#g.close()"
   ]
  },
  {
   "cell_type": "code",
   "execution_count": 206,
   "metadata": {},
   "outputs": [
    {
     "data": {
      "text/plain": [
       "['_normslist',\n",
       " '_afternorm',\n",
       " '_beforenorm',\n",
       " '__module',\n",
       " '__version',\n",
       " 'class',\n",
       " '_cnvObj']"
      ]
     },
     "execution_count": 206,
     "metadata": {},
     "output_type": "execute_result"
    }
   ],
   "source": [
    "a['tunedPP']['items'][0]['items'][0].keys()#['__module']\n",
    "#a['tunedPP']['items'][0]['items'][0].keys()#['__module']"
   ]
  },
  {
   "cell_type": "code",
   "execution_count": 216,
   "metadata": {},
   "outputs": [],
   "source": [
    "beforenorm = a['tunedPP']['items'][0]['items'][0]['_beforenorm'] #[0].shape\n",
    "afternorm = a['tunedPP']['items'][0]['items'][0]['_afternorm'] #[0].shape\n",
    "norms = a['tunedPP']['items'][0]['items'][0]['_normslist'] #[0].shape"
   ]
  },
  {
   "cell_type": "code",
   "execution_count": 222,
   "metadata": {},
   "outputs": [],
   "source": [
    "if isinstance(beforenorm, (tuple, list,)):\n",
    "      norm_data = []\n",
    "      for i, cdata in enumerate(beforenorm):\n",
    "        norm_data.append( cdata / norms[i])"
   ]
  },
  {
   "cell_type": "code",
   "execution_count": 237,
   "metadata": {},
   "outputs": [],
   "source": [
    "if isinstance(afternorm, (tuple, list,)):\n",
    "      unnorm_data = []\n",
    "      for i, cdata in enumerate(afternorm):\n",
    "        unnorm_data.append( cdata * norms[i])"
   ]
  },
  {
   "cell_type": "code",
   "execution_count": 243,
   "metadata": {},
   "outputs": [
    {
     "data": {
      "text/plain": [
       "array([ 4.14324524e+02,  5.80920563e+01,  2.90117615e+02, -3.82144836e+02,\n",
       "       -3.07323822e+02,  1.47303711e+02, -1.26472496e+02,  1.27288582e+02,\n",
       "        2.27023071e+03,  3.56478882e+03,  9.86738037e+02,  4.83409485e+02,\n",
       "        1.14288086e+02,  6.55897369e+01,  7.04929428e+01, -2.07344189e+01,\n",
       "        8.46368942e+01, -1.56415987e+01, -5.55555191e+01,  3.46798325e+01,\n",
       "       -3.04336834e+01, -3.92068291e+00,  4.15888824e+01, -4.29359665e+01,\n",
       "        9.31302261e+01,  1.36893091e+01,  2.44227619e+01, -5.81115150e+01,\n",
       "       -7.88156052e+01,  5.04332542e+01,  1.59602060e+01, -9.38887882e+00,\n",
       "       -3.06666241e+01, -6.20635185e+01,  1.91980529e+00, -5.17838554e+01,\n",
       "        3.16268997e+01, -1.08848457e+01, -7.75930786e+01, -1.16034327e+01,\n",
       "        9.62844193e-02, -2.99665508e+01, -2.22139091e+01, -4.39717979e+01,\n",
       "       -3.39476180e+00, -1.71876450e+01,  1.32685280e+01, -2.33074245e+01,\n",
       "       -5.61474711e-02, -5.79938278e+01, -4.29106407e+01, -2.08246975e+01,\n",
       "       -5.40919638e+00, -2.72367935e+01,  4.43263779e+01,  2.83703136e+01,\n",
       "        3.75005531e+01,  1.19236097e+01, -1.51761303e+01, -5.74629450e+00,\n",
       "        1.02638264e+01, -6.25841827e+01, -1.49418354e+01, -3.83065643e+01,\n",
       "        7.59971809e+00,  5.40791607e+00,  3.92792206e+01, -6.02005692e+01,\n",
       "        6.29033613e+00, -5.65002823e+01, -1.04090366e+01, -6.61589661e+01,\n",
       "        1.73434558e+03,  1.43170176e+04,  6.64306250e+03,  1.41429431e+03,\n",
       "        1.46618790e+02, -9.07070312e+01,  5.06868378e+02, -6.57057953e+01,\n",
       "       -1.09167118e+01,  2.33210850e+01, -6.16575165e+01,  3.64880371e+01,\n",
       "        6.21668282e+01,  1.86674271e+01,  1.32453568e+02, -1.00537628e+02,\n",
       "        1.46642749e+03,  7.79236670e+03,  2.26498438e+03,  0.00000000e+00,\n",
       "        8.73479919e+02,  6.76452783e+03,  8.13279602e+02,  0.00000000e+00,\n",
       "        3.60108833e+01, -3.60066338e+01,  1.34050055e+01,  0.00000000e+00],\n",
       "      dtype=float32)"
      ]
     },
     "execution_count": 243,
     "metadata": {},
     "output_type": "execute_result"
    }
   ],
   "source": [
    "unnorm_data[1][43]"
   ]
  },
  {
   "cell_type": "code",
   "execution_count": 242,
   "metadata": {},
   "outputs": [
    {
     "data": {
      "text/plain": [
       "array([ 4.14324524e+02,  5.80920563e+01,  2.90117615e+02, -3.82144836e+02,\n",
       "       -3.07323822e+02,  1.47303711e+02, -1.26472496e+02,  1.27288582e+02,\n",
       "        2.27023071e+03,  3.56478882e+03,  9.86738037e+02,  4.83409485e+02,\n",
       "        1.14288086e+02,  6.55897369e+01,  7.04929428e+01, -2.07344189e+01,\n",
       "        8.46368942e+01, -1.56415987e+01, -5.55555191e+01,  3.46798325e+01,\n",
       "       -3.04336853e+01, -3.92068315e+00,  4.15888824e+01, -4.29359665e+01,\n",
       "        9.31302261e+01,  1.36893091e+01,  2.44227619e+01, -5.81115150e+01,\n",
       "       -7.88156052e+01,  5.04332542e+01,  1.59602060e+01, -9.38887882e+00,\n",
       "       -3.06666241e+01, -6.20635185e+01,  1.91980529e+00, -5.17838516e+01,\n",
       "        3.16268997e+01, -1.08848457e+01, -7.75930786e+01, -1.16034327e+01,\n",
       "        9.62844193e-02, -2.99665527e+01, -2.22139091e+01, -4.39717979e+01,\n",
       "       -3.39476156e+00, -1.71876450e+01,  1.32685280e+01, -2.33074245e+01,\n",
       "       -5.61474748e-02, -5.79938278e+01, -4.29106407e+01, -2.08246975e+01,\n",
       "       -5.40919638e+00, -2.72367935e+01,  4.43263779e+01,  2.83703156e+01,\n",
       "        3.75005531e+01,  1.19236097e+01, -1.51761303e+01, -5.74629450e+00,\n",
       "        1.02638264e+01, -6.25841827e+01, -1.49418354e+01, -3.83065643e+01,\n",
       "        7.59971857e+00,  5.40791607e+00,  3.92792206e+01, -6.02005730e+01,\n",
       "        6.29033613e+00, -5.65002785e+01, -1.04090366e+01, -6.61589661e+01,\n",
       "        1.73434558e+03,  1.43170176e+04,  6.64306299e+03,  1.41429431e+03,\n",
       "        1.46618790e+02, -9.07070312e+01,  5.06868347e+02, -6.57057953e+01,\n",
       "       -1.09167118e+01,  2.33210850e+01, -6.16575127e+01,  3.64880371e+01,\n",
       "        6.21668282e+01,  1.86674271e+01,  1.32453568e+02, -1.00537628e+02,\n",
       "        1.46642749e+03,  7.79236670e+03,  2.26498438e+03,  0.00000000e+00,\n",
       "        8.73479980e+02,  6.76452783e+03,  8.13279663e+02,  0.00000000e+00,\n",
       "        3.60108833e+01, -3.60066338e+01,  1.34050055e+01,  0.00000000e+00],\n",
       "      dtype=float32)"
      ]
     },
     "execution_count": 242,
     "metadata": {},
     "output_type": "execute_result"
    }
   ],
   "source": [
    "beforenorm[1][43]"
   ]
  },
  {
   "cell_type": "code",
   "execution_count": 215,
   "metadata": {},
   "outputs": [
    {
     "data": {
      "text/plain": [
       "339519"
      ]
     },
     "execution_count": 215,
     "metadata": {},
     "output_type": "execute_result"
    }
   ],
   "source": [
    "len(norms[0])+len(norms[1])"
   ]
  },
  {
   "cell_type": "code",
   "execution_count": 208,
   "metadata": {},
   "outputs": [],
   "source": [
    "if isinstance(data, (tuple, list,)):\n",
    "    #norm1_val_Data = np.concatenate( data, axis=0 )\n",
    "    norm1_val_Data = np.concatenate( data, axis=0 )"
   ]
  },
  {
   "cell_type": "code",
   "execution_count": 131,
   "metadata": {},
   "outputs": [
    {
     "data": {
      "text/plain": [
       "[<matplotlib.lines.Line2D at 0xe550f10>]"
      ]
     },
     "execution_count": 131,
     "metadata": {},
     "output_type": "execute_result"
    },
    {
     "data": {
      "image/png": "[encoded data removed]",
      "text/plain": [
       "<matplotlib.figure.Figure at 0xfa6ba50>"
      ]
     },
     "metadata": {},
     "output_type": "display_data"
    }
   ],
   "source": [
    "norm1_val_Data[1]\n",
    "plt.plot(norm1_val_Data[1])"
   ]
  },
  {
   "cell_type": "code",
   "execution_count": 130,
   "metadata": {},
   "outputs": [
    {
     "data": {
      "text/plain": [
       "[<matplotlib.lines.Line2D at 0xe2950d0>]"
      ]
     },
     "execution_count": 130,
     "metadata": {},
     "output_type": "execute_result"
    },
    {
     "data": {
      "image/png": "[encoded data removed]",
      "text/plain": [
       "<matplotlib.figure.Figure at 0xe293690>"
      ]
     },
     "metadata": {},
     "output_type": "display_data"
    }
   ],
   "source": [
    "val_Data[1]\n",
    "plt.plot(val_Data[1])\n",
    "#before_val_Data87[-43]"
   ]
  },
  {
   "cell_type": "code",
   "execution_count": 113,
   "metadata": {},
   "outputs": [
    {
     "data": {
      "text/plain": [
       "<matplotlib.figure.Figure at 0xc81db50>"
      ]
     },
     "metadata": {},
     "output_type": "display_data"
    }
   ],
   "source": [
    "for i in range(before_val_Data87.shape[1]):\n",
    "    pdf, a = EstPDF(before_val_Data87.T[i],mode='hist')\n",
    "    plt.plot(pdf)\n",
    "    plt.title('Pdf Anel '+str(i+1),fontsize= 'xx-large')\n",
    "    plt.ylabel('Probabilidade',fontsize= 'xx-large')\n",
    "    plt.xlabel('Energia do Anel',fontsize= 'xx-large')\n",
    "    plt.tick_params(axis='both',labelsize=16)\n",
    "    plt.grid()\n",
    "    plt.savefig(dirout+'pdf_norm1'+str(i+1)+'.png')\n",
    "    plt.gcf().clear()\n",
    "#plt.savefig(dirout+'60X40_kl_recons_anel.png')"
   ]
  },
  {
   "cell_type": "code",
   "execution_count": 99,
   "metadata": {},
   "outputs": [
    {
     "data": {
      "text/plain": [
       "(100, 2900)"
      ]
     },
     "execution_count": 99,
     "metadata": {},
     "output_type": "execute_result"
    }
   ],
   "source": [
    "data[0].T.shape\n",
    "data[1].T.shape\n"
   ]
  },
  {
   "cell_type": "code",
   "execution_count": 145,
   "metadata": {},
   "outputs": [
    {
     "data": {
      "text/plain": [
       "<matplotlib.figure.Figure at 0xe270790>"
      ]
     },
     "metadata": {},
     "output_type": "display_data"
    }
   ],
   "source": [
    "for i in range(norm1_val_Data.shape[1]):\n",
    "    pdf, a = EstPDF(norm1_val_Data.T[i],mode='hist')\n",
    "    plt.plot(pdf)\n",
    "    pdf, a = EstPDF(data[0].T[i],mode='hist')\n",
    "    plt.plot(pdf)\n",
    "    pdf, a = EstPDF(data[1].T[i],mode='hist')\n",
    "    plt.plot(pdf)\n",
    "    plt.legend(['All','Signal','Background'], loc='best',fontsize = 'xx-large')\n",
    "    plt.title('Pdf Anel '+str(i+1),fontsize= 'xx-large')\n",
    "    plt.ylabel('Probabilidade',fontsize= 'xx-large')\n",
    "    plt.xlabel('Energia do Anel',fontsize= 'xx-large')\n",
    "    plt.tick_params(axis='both',labelsize=16)\n",
    "    plt.grid()\n",
    "    plt.savefig(dirout+'pdf_norm1_'+str(i+1)+'.png')\n",
    "    plt.gcf().clear()\n"
   ]
  },
  {
   "cell_type": "code",
   "execution_count": 209,
   "metadata": {},
   "outputs": [
    {
     "name": "stdout",
     "output_type": "stream",
     "text": [
      "Anel: 1\n",
      "OK Anel: 1\n",
      "Anel: 2\n",
      "OK Anel: 2\n",
      "Anel: 3\n",
      "OK Anel: 3\n",
      "Anel: 4\n",
      "OK Anel: 4\n",
      "Anel: 5\n",
      "OK Anel: 5\n",
      "Anel: 6\n",
      "OK Anel: 6\n",
      "Anel: 7\n",
      "OK Anel: 7\n",
      "Anel: 8\n",
      "OK Anel: 8\n",
      "Anel: 9\n",
      "OK Anel: 9\n",
      "Anel: 10\n",
      "OK Anel: 10\n",
      "Anel: 11\n",
      "OK Anel: 11\n",
      "Anel: 12\n",
      "OK Anel: 12\n",
      "Anel: 13\n",
      "OK Anel: 13\n",
      "Anel: 14\n",
      "OK Anel: 14\n",
      "Anel: 15\n",
      "OK Anel: 15\n",
      "Anel: 16\n",
      "OK Anel: 16\n",
      "Anel: 17\n",
      "OK Anel: 17\n",
      "Anel: 18\n",
      "OK Anel: 18\n",
      "Anel: 19\n",
      "OK Anel: 19\n",
      "Anel: 20\n",
      "OK Anel: 20\n",
      "Anel: 21\n",
      "OK Anel: 21\n",
      "Anel: 22\n",
      "OK Anel: 22\n",
      "Anel: 23\n",
      "OK Anel: 23\n",
      "Anel: 24\n",
      "OK Anel: 24\n",
      "Anel: 25\n",
      "OK Anel: 25\n",
      "Anel: 26\n",
      "OK Anel: 26\n",
      "Anel: 27\n",
      "OK Anel: 27\n",
      "Anel: 28\n",
      "OK Anel: 28\n",
      "Anel: 29\n",
      "OK Anel: 29\n",
      "Anel: 30\n",
      "OK Anel: 30\n",
      "Anel: 31\n",
      "OK Anel: 31\n",
      "Anel: 32\n",
      "OK Anel: 32\n",
      "Anel: 33\n",
      "OK Anel: 33\n",
      "Anel: 34\n",
      "OK Anel: 34\n",
      "Anel: 35\n",
      "OK Anel: 35\n",
      "Anel: 36\n",
      "OK Anel: 36\n",
      "Anel: 37\n",
      "OK Anel: 37\n",
      "Anel: 38\n",
      "OK Anel: 38\n",
      "Anel: 39\n",
      "OK Anel: 39\n",
      "Anel: 40\n",
      "OK Anel: 40\n",
      "Anel: 41\n",
      "OK Anel: 41\n",
      "Anel: 42\n",
      "OK Anel: 42\n",
      "Anel: 43\n",
      "OK Anel: 43\n",
      "Anel: 44\n",
      "OK Anel: 44\n",
      "Anel: 45\n",
      "OK Anel: 45\n",
      "Anel: 46\n",
      "OK Anel: 46\n",
      "Anel: 47\n",
      "OK Anel: 47\n",
      "Anel: 48\n",
      "OK Anel: 48\n",
      "Anel: 49\n",
      "OK Anel: 49\n",
      "Anel: 50\n",
      "OK Anel: 50\n",
      "Anel: 51\n",
      "OK Anel: 51\n",
      "Anel: 52\n",
      "OK Anel: 52\n",
      "Anel: 53\n",
      "OK Anel: 53\n",
      "Anel: 54\n",
      "OK Anel: 54\n",
      "Anel: 55\n",
      "OK Anel: 55\n",
      "Anel: 56\n",
      "OK Anel: 56\n",
      "Anel: 57\n",
      "OK Anel: 57\n",
      "Anel: 58\n",
      "OK Anel: 58\n",
      "Anel: 59\n",
      "OK Anel: 59\n",
      "Anel: 60\n",
      "OK Anel: 60\n",
      "Anel: 61\n",
      "OK Anel: 61\n",
      "Anel: 62\n",
      "OK Anel: 62\n",
      "Anel: 63\n",
      "OK Anel: 63\n",
      "Anel: 64\n",
      "OK Anel: 64\n",
      "Anel: 65\n",
      "OK Anel: 65\n",
      "Anel: 66\n",
      "OK Anel: 66\n",
      "Anel: 67\n",
      "OK Anel: 67\n",
      "Anel: 68\n",
      "OK Anel: 68\n",
      "Anel: 69\n",
      "OK Anel: 69\n",
      "Anel: 70\n",
      "OK Anel: 70\n",
      "Anel: 71\n",
      "OK Anel: 71\n",
      "Anel: 72\n",
      "OK Anel: 72\n",
      "Anel: 73\n",
      "OK Anel: 73\n",
      "Anel: 74\n",
      "OK Anel: 74\n",
      "Anel: 75\n",
      "OK Anel: 75\n",
      "Anel: 76\n",
      "OK Anel: 76\n",
      "Anel: 77\n",
      "OK Anel: 77\n",
      "Anel: 78\n",
      "OK Anel: 78\n",
      "Anel: 79\n",
      "OK Anel: 79\n",
      "Anel: 80\n",
      "OK Anel: 80\n",
      "Anel: 81\n",
      "OK Anel: 81\n",
      "Anel: 82\n",
      "OK Anel: 82\n",
      "Anel: 83\n",
      "OK Anel: 83\n",
      "Anel: 84\n",
      "OK Anel: 84\n",
      "Anel: 85\n",
      "OK Anel: 85\n",
      "Anel: 86\n",
      "OK Anel: 86\n",
      "Anel: 87\n",
      "OK Anel: 87\n",
      "Anel: 88\n",
      "OK Anel: 88\n",
      "Anel: 89\n",
      "OK Anel: 89\n",
      "Anel: 90\n",
      "OK Anel: 90\n",
      "Anel: 91\n",
      "OK Anel: 91\n",
      "Anel: 92\n",
      "OK Anel: 92\n",
      "Erro Anel: 92\n",
      "Anel: 93\n",
      "OK Anel: 93\n",
      "Anel: 94\n",
      "OK Anel: 94\n",
      "Anel: 95\n",
      "OK Anel: 95\n",
      "Anel: 96\n",
      "OK Anel: 96\n",
      "Erro Anel: 96\n",
      "Anel: 97\n",
      "OK Anel: 97\n",
      "Anel: 98\n",
      "OK Anel: 98\n",
      "Anel: 99\n",
      "OK Anel: 99\n",
      "Anel: 100\n",
      "OK Anel: 100\n",
      "Erro Anel: 100\n"
     ]
    },
    {
     "data": {
      "image/png": "[encoded data removed]",
      "text/plain": [
       "<matplotlib.figure.Figure at 0xfd51c50>"
      ]
     },
     "metadata": {},
     "output_type": "display_data"
    }
   ],
   "source": [
    "fig1 = plt.figure(figsize=(20, 12))\n",
    "for i in range(norm1_val_Data.shape[1]):\n",
    "    print 'Anel: '+str(i+1)\n",
    "    try:\n",
    "        print 'OK Anel: '+str(i+1)\n",
    "        #fig1 = plt.figure(figsize=(20, 12))\n",
    "        #i=0\n",
    "        #pdf, a = EstPDF(norm1_val_Data.T[i],mode='hist')\n",
    "        sb.kdeplot(norm1_val_Data.T[i],shade=True,label=\"All\")\n",
    "        #pdf, a = EstPDF(data[0].T[i],mode='hist')\n",
    "        sb.kdeplot(data[0].T[i],label=\"Signal\")\n",
    "        #pdf, a = EstPDF(data[1].T[i],mode='hist')\n",
    "        sb.kdeplot(data[1].T[i],label=\"Background\")\n",
    "        plt.legend(loc='best',fontsize = 'xx-large')\n",
    "        plt.title('Pdf Anel '+str(i+1),fontsize= 'xx-large')\n",
    "        plt.ylabel('Probabilidade',fontsize= 'xx-large')\n",
    "        plt.xlabel('Energia do Anel',fontsize= 'xx-large')\n",
    "        plt.tick_params(axis='both',labelsize=16)\n",
    "        plt.grid()\n",
    "        plt.savefig(dirout+'pdf_norm1_'+str(i+1)+'.png')\n",
    "        plt.gcf().clear()\n",
    "    except:\n",
    "        print 'Erro Anel: '+str(i+1)\n"
   ]
  },
  {
   "cell_type": "code",
   "execution_count": 203,
   "metadata": {},
   "outputs": [
    {
     "data": {
      "text/plain": [
       "100"
      ]
     },
     "execution_count": 203,
     "metadata": {},
     "output_type": "execute_result"
    }
   ],
   "source": [
    "val_Data.shape[1]\n",
    "#import sklearn\n",
    "#sklearn.neighbors.KernelDensity(norm1_val_Data.T[1])"
   ]
  },
  {
   "cell_type": "code",
   "execution_count": 192,
   "metadata": {},
   "outputs": [
    {
     "data": {
      "text/plain": [
       "<matplotlib.axes._subplots.AxesSubplot at 0x10ea35d0>"
      ]
     },
     "execution_count": 192,
     "metadata": {},
     "output_type": "execute_result"
    },
    {
     "data": {
      "image/png": "[encoded data removed]",
      "text/plain": [
       "<matplotlib.figure.Figure at 0x115e3c90>"
      ]
     },
     "metadata": {},
     "output_type": "display_data"
    }
   ],
   "source": [
    "sb.kdeplot(data[0].T[0],label=\"Background\")"
   ]
  },
  {
   "cell_type": "code",
   "execution_count": 191,
   "metadata": {},
   "outputs": [
    {
     "data": {
      "text/plain": [
       "<matplotlib.axes._subplots.AxesSubplot at 0x115e3d10>"
      ]
     },
     "execution_count": 191,
     "metadata": {},
     "output_type": "execute_result"
    },
    {
     "data": {
      "image/png": "[encoded data removed]",
      "text/plain": [
       "<matplotlib.figure.Figure at 0x111e0b50>"
      ]
     },
     "metadata": {},
     "output_type": "display_data"
    }
   ],
   "source": [
    "import pandas as pd\n",
    "pd.DataFrame(data[1].T[1]).plot.kde()"
   ]
  },
  {
   "cell_type": "code",
   "execution_count": 85,
   "metadata": {},
   "outputs": [],
   "source": [
    "import numpy as np\n",
    "from sklearn.neighbors import KernelDensity\n",
    "\n",
    "# Estimating PDF\n",
    "def EstPDF(data, bins=np.array([-1,0, 1]), mode='kernel', kernel='epanechnikov', kernel_bw=0.01, verbose=False):\n",
    "    # kernels = 'epanechnikov','gaussian', 'tophat','exponential', 'linear', 'cosine'\n",
    "    if mode == 'hist':\n",
    "        if verbose:\n",
    "            print 'EstPDF: Histogram Mode'\n",
    "        [y,pts] = np.histogram(data,bins=100,density=True)\n",
    "        bins_centers = pts[0:-1]+np.diff(pts)\n",
    "        pdf = y*np.diff(pts)\n",
    "        return [pdf,bins_centers]\n",
    "    if mode == 'kernel':\n",
    "        if verbose:\n",
    "            print 'EstPDF: Kernel Mode'\n",
    "        if kernel is None:\n",
    "            if verbose:\n",
    "                print 'No kernel defined'\n",
    "            return -1\n",
    "        if kernel_bw is None:\n",
    "            if verbose:\n",
    "                print 'No kernel bandwidth defined'\n",
    "            return -1\n",
    "        kde = (KernelDensity(kernel=kernel,algorithm='auto',bandwidth=kernel_bw).fit(data))\n",
    "        aux_bins = bins\n",
    "        log_dens_x = (kde.score_samples(aux_bins[:, np.newaxis]))\n",
    "        pdf = np.exp(log_dens_x)\n",
    "        pdf = pdf/sum(pdf)\n",
    "        bins_centers = bins\n",
    "        return [pdf,bins_centers]\n",
    "\n",
    "# Computing KL Divergence\n",
    "def KLDiv(p, q, bins=np.array([-1,0, 1]), mode='hist', kernel='epanechnikov', kernel_bw=0.1, verbose=False):\n",
    "    [p_pdf,p_bins] = EstPDF(p, bins=bins, mode=mode, kernel=kernel, kernel_bw=kernel_bw, verbose=verbose)\n",
    "    [q_pdf,q_bins] = EstPDF(q, bins=bins, mode=mode, kernel=kernel, kernel_bw=kernel_bw, verbose=verbose)\n",
    "    #print len(p_pdf),len(q_pdf)\n",
    "    kl_values = []\n",
    "    for i in range(len(p_pdf)):\n",
    "        if p_pdf[i] == 0 or q_pdf[i] == 0 :\n",
    "            kl_values = np.append(kl_values,0)\n",
    "        else:\n",
    "            kl_value = np.abs(p_pdf[i]*np.log10(p_pdf[i]/q_pdf[i]))\n",
    "            if np.isnan(kl_value):\n",
    "                kl_values = np.append(kl_values,0)\n",
    "            else:\n",
    "                kl_values = np.append(kl_values,kl_value)\n",
    "    return [np.sum(kl_values),kl_values]\n",
    "\n",
    "# Computing KL Divergence\n",
    "def KLDiv_conj(p, q, bins=np.array([-1,0, 1]), mode='hist', kernel='epanechnikov', kernel_bw=0.1, verbose=False):\n",
    "    p_pdf_conj=1\n",
    "    q_pdf_conj=1\n",
    "    for i_anel in range(100): \n",
    "        [ppdf,p_bins] = EstPDF(p[i_anel], bins=bins, mode=mode, kernel=kernel, kernel_bw=kernel_bw, verbose=verbose)\n",
    "        [qpdf,q_bins] = EstPDF(q[i_anel], bins=bins, mode=mode, kernel=kernel, kernel_bw=kernel_bw, verbose=verbose)\n",
    "    \n",
    "        p_pdf_conj = p_pdf_conj*ppdf\n",
    "        q_pdf_conj = q_pdf_conj*qpdf\n",
    "    \n",
    "    p_pdf=p_pdf_conj\n",
    "    q_pdf=q_pdf_conj\n",
    "    \n",
    "    #print len(p_pdf),len(q_pdf)\n",
    "    kl_values = []\n",
    "    for i in range(len(p_pdf)):\n",
    "        if p_pdf[i] == 0 or q_pdf[i] == 0 :\n",
    "            kl_values = np.append(kl_values,0)\n",
    "        else:\n",
    "            kl_value = np.abs(p_pdf[i]*np.log10(p_pdf[i]/q_pdf[i]))\n",
    "            if np.isnan(kl_value):\n",
    "                kl_values = np.append(kl_values,0)\n",
    "            else:\n",
    "                kl_values = np.append(kl_values,kl_value)\n",
    "    return [np.sum(kl_values),kl_values]"
   ]
  },
  {
   "cell_type": "code",
   "execution_count": 86,
   "metadata": {},
   "outputs": [
    {
     "name": "stdout",
     "output_type": "stream",
     "text": [
      "0.0\n"
     ]
    }
   ],
   "source": [
    "pdf,bins = KLDiv(data0.T,val_Data.T)\n",
    "print pdf"
   ]
  },
  {
   "cell_type": "code",
   "execution_count": 31,
   "metadata": {},
   "outputs": [
    {
     "name": "stdout",
     "output_type": "stream",
     "text": [
      "(339519, 100)\n",
      "(339519, 100)\n",
      "(339521, 100)\n",
      "(339519, 100)\n"
     ]
    }
   ],
   "source": [
    "print data77.shape\n",
    "print data87.shape\n",
    "print data40.shape\n",
    "print data10.shape"
   ]
  },
  {
   "cell_type": "code",
   "execution_count": 29,
   "metadata": {},
   "outputs": [
    {
     "data": {
      "text/plain": [
       "0.6241268774152477"
      ]
     },
     "execution_count": 29,
     "metadata": {},
     "output_type": "execute_result"
    }
   ],
   "source": [
    "pdf"
   ]
  },
  {
   "cell_type": "code",
   "execution_count": null,
   "metadata": {},
   "outputs": [],
   "source": [
    "pdf,bins = EstPDF(val_data.T[84], verbose=True)"
   ]
  }
 ],
 "metadata": {
  "kernelspec": {
   "display_name": "Python 2",
   "language": "python",
   "name": "python2"
  },
  "language_info": {
   "codemirror_mode": {
    "name": "ipython",
    "version": 2
   },
   "file_extension": ".py",
   "mimetype": "text/x-python",
   "name": "python",
   "nbconvert_exporter": "python",
   "pygments_lexer": "ipython2",
   "version": "2.7.5"
  }
 },
 "nbformat": 4,
 "nbformat_minor": 2
}
